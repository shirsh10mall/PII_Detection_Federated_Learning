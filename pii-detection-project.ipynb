{
 "cells": [
  {
   "cell_type": "code",
   "execution_count": 1,
   "id": "775de6ee",
   "metadata": {
    "_kg_hide-input": true,
    "execution": {
     "iopub.execute_input": "2024-09-11T16:27:56.123705Z",
     "iopub.status.busy": "2024-09-11T16:27:56.123313Z",
     "iopub.status.idle": "2024-09-11T16:28:10.507524Z",
     "shell.execute_reply": "2024-09-11T16:28:10.506586Z"
    },
    "papermill": {
     "duration": 14.396407,
     "end_time": "2024-09-11T16:28:10.510183",
     "exception": false,
     "start_time": "2024-09-11T16:27:56.113776",
     "status": "completed"
    },
    "scrolled": true,
    "tags": []
   },
   "outputs": [
    {
     "name": "stdout",
     "output_type": "stream",
     "text": [
      "Collecting unidecode\r\n",
      "  Downloading Unidecode-1.3.8-py3-none-any.whl.metadata (13 kB)\r\n",
      "Downloading Unidecode-1.3.8-py3-none-any.whl (235 kB)\r\n",
      "\u001b[2K   \u001b[90m━━━━━━━━━━━━━━━━━━━━━━━━━━━━━━━━━━━━━━━━\u001b[0m \u001b[32m235.5/235.5 kB\u001b[0m \u001b[31m6.0 MB/s\u001b[0m eta \u001b[36m0:00:00\u001b[0m\r\n",
      "\u001b[?25hInstalling collected packages: unidecode\r\n",
      "Successfully installed unidecode-1.3.8\r\n"
     ]
    }
   ],
   "source": [
    "!pip install unidecode"
   ]
  },
  {
   "cell_type": "code",
   "execution_count": 2,
   "id": "6d96cf21",
   "metadata": {
    "execution": {
     "iopub.execute_input": "2024-09-11T16:28:10.528177Z",
     "iopub.status.busy": "2024-09-11T16:28:10.527877Z",
     "iopub.status.idle": "2024-09-11T16:28:16.858400Z",
     "shell.execute_reply": "2024-09-11T16:28:16.857599Z"
    },
    "papermill": {
     "duration": 6.341951,
     "end_time": "2024-09-11T16:28:16.860720",
     "exception": false,
     "start_time": "2024-09-11T16:28:10.518769",
     "status": "completed"
    },
    "tags": []
   },
   "outputs": [],
   "source": [
    "from dotenv import load_dotenv\n",
    "import os\n",
    "from pathlib import Path\n",
    "import pandas as pd\n",
    "from transformers import AutoModel, AutoTokenizer, AutoConfig\n",
    "from unidecode import unidecode\n",
    "import torch\n",
    "from torch.utils.data import DataLoader, Dataset\n",
    "from tqdm import tqdm\n",
    "import torch.optim as optim\n",
    "from sklearn.metrics import classification_report\n",
    "from sklearn.model_selection import train_test_split\n",
    "from loguru import logger\n",
    "\n"
   ]
  },
  {
   "cell_type": "code",
   "execution_count": 3,
   "id": "3189e2e4",
   "metadata": {
    "execution": {
     "iopub.execute_input": "2024-09-11T16:28:16.878273Z",
     "iopub.status.busy": "2024-09-11T16:28:16.877868Z",
     "iopub.status.idle": "2024-09-11T16:28:16.885374Z",
     "shell.execute_reply": "2024-09-11T16:28:16.884519Z"
    },
    "papermill": {
     "duration": 0.018455,
     "end_time": "2024-09-11T16:28:16.887375",
     "exception": false,
     "start_time": "2024-09-11T16:28:16.868920",
     "status": "completed"
    },
    "tags": []
   },
   "outputs": [],
   "source": [
    "def get_devices() -> list:\n",
    "    \"\"\"\n",
    "    Returns a list of available torch devices.\n",
    "    Prioritizes CUDA (GPU) if available, followed by MPS (Apple Silicon), \n",
    "    and defaults to CPU if neither are available.\n",
    "    \"\"\"\n",
    "    devices = []\n",
    "    \n",
    "    if torch.cuda.is_available():\n",
    "        # Add all available CUDA devices\n",
    "        for i in range(torch.cuda.device_count()):\n",
    "            device = torch.device(f\"cuda:{i}\")\n",
    "            devices.append(device)\n",
    "            logger.info(f\"Using CUDA device: {torch.cuda.get_device_name(i)} (cuda:{i})\")\n",
    "    \n",
    "    elif torch.backends.mps.is_available():\n",
    "        # If CUDA is not available, add MPS device (Apple Silicon)\n",
    "        device = torch.device(\"mps\")\n",
    "        devices.append(device)\n",
    "        logger.info(\"Using MPS (Apple Silicon) device.\")\n",
    "    \n",
    "    else:\n",
    "        # If neither CUDA nor MPS are available, default to CPU\n",
    "        device = torch.device(\"cpu\")\n",
    "        devices.append(device)\n",
    "        logger.info(\"Using CPU device.\")\n",
    "\n",
    "    return devices"
   ]
  },
  {
   "cell_type": "code",
   "execution_count": 4,
   "id": "ff793b84",
   "metadata": {
    "execution": {
     "iopub.execute_input": "2024-09-11T16:28:16.904532Z",
     "iopub.status.busy": "2024-09-11T16:28:16.904263Z",
     "iopub.status.idle": "2024-09-11T16:28:17.232539Z",
     "shell.execute_reply": "2024-09-11T16:28:17.231609Z"
    },
    "papermill": {
     "duration": 0.33884,
     "end_time": "2024-09-11T16:28:17.234444",
     "exception": false,
     "start_time": "2024-09-11T16:28:16.895604",
     "status": "completed"
    },
    "tags": []
   },
   "outputs": [
    {
     "data": {
      "application/vnd.jupyter.widget-view+json": {
       "model_id": "d52a34c8759b4cf1ae78c0fc98067aca",
       "version_major": 2,
       "version_minor": 0
      },
      "text/plain": [
       "config.json:   0%|          | 0.00/579 [00:00<?, ?B/s]"
      ]
     },
     "metadata": {},
     "output_type": "display_data"
    },
    {
     "name": "stderr",
     "output_type": "stream",
     "text": [
      "\u001b[32m2024-09-11 16:28:17.228\u001b[0m | \u001b[1mINFO    \u001b[0m | \u001b[36m__main__\u001b[0m:\u001b[36mget_devices\u001b[0m:\u001b[36m14\u001b[0m - \u001b[1mUsing CUDA device: Tesla P100-PCIE-16GB (cuda:0)\u001b[0m\n"
     ]
    },
    {
     "name": "stdout",
     "output_type": "stream",
     "text": [
      "torch_device:  [device(type='cuda', index=0)]\n"
     ]
    }
   ],
   "source": [
    "class Config:\n",
    "    # Model Config\n",
    "    model_id = \"microsoft/deberta-v3-base\" # \"microsoft/deberta-v3-large\"\n",
    "    model_architecture_config = AutoConfig.from_pretrained(\n",
    "        model_id, output_hidden_states=True\n",
    "    )\n",
    "\n",
    "    # Training Config\n",
    "    batch_size = 4\n",
    "    max_length = 1024 * 2 + 256\n",
    "    num_workers = 2\n",
    "    learning_rate = 5e-4\n",
    "    epochs = 10\n",
    "    accumulation_steps = 2  # Number of steps to accumulate gradients before an update\n",
    "\n",
    "\n",
    "    # Hardware Config\n",
    "    torch_device = get_devices()\n",
    "\n",
    "    # Dataset\n",
    "    dataset_file_path = (\n",
    "        \"/kaggle/input/pii-detection-removal-from-educational-data/train.json\"\n",
    "    )\n",
    "    split_config = {\n",
    "        \"test_size\": 0.2,\n",
    "        \"shuffle\": True,\n",
    "        \"random_state\": 10,\n",
    "    }\n",
    "    sample_only = False\n",
    "    sample_size = 32\n",
    "\n",
    "    # Labels:\n",
    "    label2id = {\n",
    "        \"O\": 0,\n",
    "        \"B-EMAIL\": 1,\n",
    "        \"B-ID_NUM\": 2,\n",
    "        \"B-NAME_STUDENT\": 3,\n",
    "        \"B-PHONE_NUM\": 4,\n",
    "        \"B-STREET_ADDRESS\": 5,\n",
    "        \"B-URL_PERSONAL\": 6,\n",
    "        \"B-USERNAME\": 7,\n",
    "        \"I-ID_NUM\": 8,\n",
    "        \"I-NAME_STUDENT\": 9,\n",
    "        \"I-PHONE_NUM\": 10,\n",
    "        \"I-STREET_ADDRESS\": 11,\n",
    "        \"I-URL_PERSONAL\": 12,\n",
    "    }\n",
    "    id2label = {\n",
    "        \"0\": \"O\",\n",
    "        \"1\": \"B-EMAIL\",\n",
    "        \"2\": \"B-ID_NUM\",\n",
    "        \"3\": \"B-NAME_STUDENT\",\n",
    "        \"4\": \"B-PHONE_NUM\",\n",
    "        \"5\": \"B-STREET_ADDRESS\",\n",
    "        \"6\": \"B-URL_PERSONAL\",\n",
    "        \"7\": \"B-USERNAME\",\n",
    "        \"8\": \"I-ID_NUM\",\n",
    "        \"9\": \"I-NAME_STUDENT\",\n",
    "        \"10\": \"I-PHONE_NUM\",\n",
    "        \"11\": \"I-STREET_ADDRESS\",\n",
    "        \"12\": \"I-URL_PERSONAL\",\n",
    "    }\n",
    "    num_labels = len(label2id)\n",
    "\n",
    "\n",
    "print(\"torch_device: \", Config.torch_device)"
   ]
  },
  {
   "cell_type": "code",
   "execution_count": 5,
   "id": "8ffbc8af",
   "metadata": {
    "execution": {
     "iopub.execute_input": "2024-09-11T16:28:17.252327Z",
     "iopub.status.busy": "2024-09-11T16:28:17.252031Z",
     "iopub.status.idle": "2024-09-11T16:28:19.330245Z",
     "shell.execute_reply": "2024-09-11T16:28:19.329392Z"
    },
    "papermill": {
     "duration": 2.089494,
     "end_time": "2024-09-11T16:28:19.332485",
     "exception": false,
     "start_time": "2024-09-11T16:28:17.242991",
     "status": "completed"
    },
    "tags": []
   },
   "outputs": [
    {
     "data": {
      "application/vnd.jupyter.widget-view+json": {
       "model_id": "692b213b85ba415383d740bc3399f546",
       "version_major": 2,
       "version_minor": 0
      },
      "text/plain": [
       "tokenizer_config.json:   0%|          | 0.00/52.0 [00:00<?, ?B/s]"
      ]
     },
     "metadata": {},
     "output_type": "display_data"
    },
    {
     "data": {
      "application/vnd.jupyter.widget-view+json": {
       "model_id": "20abf506d8ee4b5bbbc29246c6b2bb34",
       "version_major": 2,
       "version_minor": 0
      },
      "text/plain": [
       "spm.model:   0%|          | 0.00/2.46M [00:00<?, ?B/s]"
      ]
     },
     "metadata": {},
     "output_type": "display_data"
    },
    {
     "name": "stderr",
     "output_type": "stream",
     "text": [
      "/opt/conda/lib/python3.10/site-packages/transformers/convert_slow_tokenizer.py:551: UserWarning: The sentencepiece tokenizer that you are converting to a fast tokenizer uses the byte fallback option which is not implemented in the fast tokenizers. In practice this means that the fast version of the tokenizer can produce unknown tokens whereas the sentencepiece version would have converted these unknown tokens into a sequence of byte tokens matching the original piece of text.\n",
      "  warnings.warn(\n"
     ]
    }
   ],
   "source": [
    "tokenizer = AutoTokenizer.from_pretrained(\n",
    "    Config.model_id,\n",
    "    use_fast=True,  # to avoid warnings\n",
    "    clean_up_tokenization_spaces=False,  # to avoid warnings\n",
    "    max_length=Config.max_length,\n",
    ")"
   ]
  },
  {
   "cell_type": "code",
   "execution_count": 6,
   "id": "bed4d048",
   "metadata": {
    "execution": {
     "iopub.execute_input": "2024-09-11T16:28:19.352313Z",
     "iopub.status.busy": "2024-09-11T16:28:19.351821Z",
     "iopub.status.idle": "2024-09-11T16:28:22.045081Z",
     "shell.execute_reply": "2024-09-11T16:28:22.044089Z"
    },
    "papermill": {
     "duration": 2.70578,
     "end_time": "2024-09-11T16:28:22.047316",
     "exception": false,
     "start_time": "2024-09-11T16:28:19.341536",
     "status": "completed"
    },
    "tags": []
   },
   "outputs": [
    {
     "data": {
      "text/html": [
       "<div>\n",
       "<style scoped>\n",
       "    .dataframe tbody tr th:only-of-type {\n",
       "        vertical-align: middle;\n",
       "    }\n",
       "\n",
       "    .dataframe tbody tr th {\n",
       "        vertical-align: top;\n",
       "    }\n",
       "\n",
       "    .dataframe thead th {\n",
       "        text-align: right;\n",
       "    }\n",
       "</style>\n",
       "<table border=\"1\" class=\"dataframe\">\n",
       "  <thead>\n",
       "    <tr style=\"text-align: right;\">\n",
       "      <th></th>\n",
       "      <th>document</th>\n",
       "      <th>full_text</th>\n",
       "      <th>tokens</th>\n",
       "      <th>trailing_whitespace</th>\n",
       "      <th>labels</th>\n",
       "    </tr>\n",
       "  </thead>\n",
       "  <tbody>\n",
       "    <tr>\n",
       "      <th>0</th>\n",
       "      <td>7</td>\n",
       "      <td>Design Thinking for innovation reflexion-Avril...</td>\n",
       "      <td>[Design, Thinking, for, innovation, reflexion,...</td>\n",
       "      <td>[True, True, True, True, False, False, True, F...</td>\n",
       "      <td>[O, O, O, O, O, O, O, O, O, B-NAME_STUDENT, I-...</td>\n",
       "    </tr>\n",
       "    <tr>\n",
       "      <th>1</th>\n",
       "      <td>10</td>\n",
       "      <td>Diego Estrada\\n\\nDesign Thinking Assignment\\n\\...</td>\n",
       "      <td>[Diego, Estrada, \\n\\n, Design, Thinking, Assig...</td>\n",
       "      <td>[True, False, False, True, True, False, False,...</td>\n",
       "      <td>[B-NAME_STUDENT, I-NAME_STUDENT, O, O, O, O, O...</td>\n",
       "    </tr>\n",
       "    <tr>\n",
       "      <th>2</th>\n",
       "      <td>16</td>\n",
       "      <td>Reporting process\\n\\nby Gilberto Gamboa\\n\\nCha...</td>\n",
       "      <td>[Reporting, process, \\n\\n, by, Gilberto, Gambo...</td>\n",
       "      <td>[True, False, False, True, True, False, False,...</td>\n",
       "      <td>[O, O, O, O, B-NAME_STUDENT, I-NAME_STUDENT, O...</td>\n",
       "    </tr>\n",
       "    <tr>\n",
       "      <th>3</th>\n",
       "      <td>20</td>\n",
       "      <td>Design Thinking for Innovation\\n\\nSindy Samaca...</td>\n",
       "      <td>[Design, Thinking, for, Innovation, \\n\\n, Sind...</td>\n",
       "      <td>[True, True, True, False, False, True, False, ...</td>\n",
       "      <td>[O, O, O, O, O, B-NAME_STUDENT, I-NAME_STUDENT...</td>\n",
       "    </tr>\n",
       "    <tr>\n",
       "      <th>4</th>\n",
       "      <td>56</td>\n",
       "      <td>Assignment:  Visualization Reflection  Submitt...</td>\n",
       "      <td>[Assignment, :,   , Visualization,  , Reflecti...</td>\n",
       "      <td>[False, False, False, False, False, False, Fal...</td>\n",
       "      <td>[O, O, O, O, O, O, O, O, O, O, O, O, B-NAME_ST...</td>\n",
       "    </tr>\n",
       "  </tbody>\n",
       "</table>\n",
       "</div>"
      ],
      "text/plain": [
       "   document                                          full_text  \\\n",
       "0         7  Design Thinking for innovation reflexion-Avril...   \n",
       "1        10  Diego Estrada\\n\\nDesign Thinking Assignment\\n\\...   \n",
       "2        16  Reporting process\\n\\nby Gilberto Gamboa\\n\\nCha...   \n",
       "3        20  Design Thinking for Innovation\\n\\nSindy Samaca...   \n",
       "4        56  Assignment:  Visualization Reflection  Submitt...   \n",
       "\n",
       "                                              tokens  \\\n",
       "0  [Design, Thinking, for, innovation, reflexion,...   \n",
       "1  [Diego, Estrada, \\n\\n, Design, Thinking, Assig...   \n",
       "2  [Reporting, process, \\n\\n, by, Gilberto, Gambo...   \n",
       "3  [Design, Thinking, for, Innovation, \\n\\n, Sind...   \n",
       "4  [Assignment, :,   , Visualization,  , Reflecti...   \n",
       "\n",
       "                                 trailing_whitespace  \\\n",
       "0  [True, True, True, True, False, False, True, F...   \n",
       "1  [True, False, False, True, True, False, False,...   \n",
       "2  [True, False, False, True, True, False, False,...   \n",
       "3  [True, True, True, False, False, True, False, ...   \n",
       "4  [False, False, False, False, False, False, Fal...   \n",
       "\n",
       "                                              labels  \n",
       "0  [O, O, O, O, O, O, O, O, O, B-NAME_STUDENT, I-...  \n",
       "1  [B-NAME_STUDENT, I-NAME_STUDENT, O, O, O, O, O...  \n",
       "2  [O, O, O, O, B-NAME_STUDENT, I-NAME_STUDENT, O...  \n",
       "3  [O, O, O, O, O, B-NAME_STUDENT, I-NAME_STUDENT...  \n",
       "4  [O, O, O, O, O, O, O, O, O, O, O, O, B-NAME_ST...  "
      ]
     },
     "execution_count": 6,
     "metadata": {},
     "output_type": "execute_result"
    }
   ],
   "source": [
    "df = pd.read_json(Config.dataset_file_path)\n",
    "\n",
    "if Config.sample_only:\n",
    "    df = df[0 : Config.sample_size]\n",
    "\n",
    "df.head(5)"
   ]
  },
  {
   "cell_type": "code",
   "execution_count": 7,
   "id": "523df05b",
   "metadata": {
    "execution": {
     "iopub.execute_input": "2024-09-11T16:28:22.067659Z",
     "iopub.status.busy": "2024-09-11T16:28:22.067120Z",
     "iopub.status.idle": "2024-09-11T16:28:35.865014Z",
     "shell.execute_reply": "2024-09-11T16:28:35.864094Z"
    },
    "papermill": {
     "duration": 13.81025,
     "end_time": "2024-09-11T16:28:35.867177",
     "exception": false,
     "start_time": "2024-09-11T16:28:22.056927",
     "status": "completed"
    },
    "tags": []
   },
   "outputs": [
    {
     "data": {
      "text/html": [
       "<div>\n",
       "<style scoped>\n",
       "    .dataframe tbody tr th:only-of-type {\n",
       "        vertical-align: middle;\n",
       "    }\n",
       "\n",
       "    .dataframe tbody tr th {\n",
       "        vertical-align: top;\n",
       "    }\n",
       "\n",
       "    .dataframe thead th {\n",
       "        text-align: right;\n",
       "    }\n",
       "</style>\n",
       "<table border=\"1\" class=\"dataframe\">\n",
       "  <thead>\n",
       "    <tr style=\"text-align: right;\">\n",
       "      <th></th>\n",
       "      <th>document</th>\n",
       "      <th>full_text</th>\n",
       "      <th>tokens</th>\n",
       "      <th>trailing_whitespace</th>\n",
       "      <th>labels</th>\n",
       "      <th>tokenized_tokens_length</th>\n",
       "    </tr>\n",
       "  </thead>\n",
       "  <tbody>\n",
       "    <tr>\n",
       "      <th>0</th>\n",
       "      <td>13147</td>\n",
       "      <td>Think Twice and Make a Wise\\n\\nConcept Mapping...</td>\n",
       "      <td>[Think, Twice, and, Make, a, Wise, [SPACE], Co...</td>\n",
       "      <td>[True, True, True, True, True, False, False, T...</td>\n",
       "      <td>[O, O, O, O, O, O, O, O, O, O, O, O, O, O, O, ...</td>\n",
       "      <td>67</td>\n",
       "    </tr>\n",
       "    <tr>\n",
       "      <th>1</th>\n",
       "      <td>19614</td>\n",
       "      <td>Who are your target customers?\\n\\nPatients hav...</td>\n",
       "      <td>[Who, are, your, target, customers, ?, [SPACE]...</td>\n",
       "      <td>[True, True, True, True, False, False, False, ...</td>\n",
       "      <td>[O, O, O, O, O, O, O, O, O, O, O, O, O, O, O, ...</td>\n",
       "      <td>68</td>\n",
       "    </tr>\n",
       "    <tr>\n",
       "      <th>2</th>\n",
       "      <td>20900</td>\n",
       "      <td>Mind Mapping  selection:\\n\\nMind mapping is us...</td>\n",
       "      <td>[Mind, Mapping, [SPACE], selection, :, [SPACE]...</td>\n",
       "      <td>[True, True, False, False, False, False, True,...</td>\n",
       "      <td>[O, O, O, O, O, O, O, O, O, O, O, O, O, O, O, ...</td>\n",
       "      <td>76</td>\n",
       "    </tr>\n",
       "    <tr>\n",
       "      <th>3</th>\n",
       "      <td>11469</td>\n",
       "      <td>Construct Your Problems\\n\\nVisualization is on...</td>\n",
       "      <td>[Construct, Your, Problems, [SPACE], Visualiza...</td>\n",
       "      <td>[True, True, False, False, True, True, True, T...</td>\n",
       "      <td>[O, O, O, O, O, O, O, O, O, O, O, O, O, O, O, ...</td>\n",
       "      <td>81</td>\n",
       "    </tr>\n",
       "    <tr>\n",
       "      <th>4</th>\n",
       "      <td>18959</td>\n",
       "      <td>Reflection writing rubric it represents throug...</td>\n",
       "      <td>[Reflection, writing, rubric, it, represents, ...</td>\n",
       "      <td>[True, True, True, True, True, True, False, Tr...</td>\n",
       "      <td>[O, O, O, O, O, O, O, O, O, O, O, O, O, O, O, ...</td>\n",
       "      <td>84</td>\n",
       "    </tr>\n",
       "    <tr>\n",
       "      <th>...</th>\n",
       "      <td>...</td>\n",
       "      <td>...</td>\n",
       "      <td>...</td>\n",
       "      <td>...</td>\n",
       "      <td>...</td>\n",
       "      <td>...</td>\n",
       "    </tr>\n",
       "    <tr>\n",
       "      <th>6802</th>\n",
       "      <td>7745</td>\n",
       "      <td>Luis Gonzales  Savitribai Phule Pune Universit...</td>\n",
       "      <td>[Luis, Gonzales, [SPACE], Savitribai, Phule, P...</td>\n",
       "      <td>[True, True, False, True, True, True, True, Fa...</td>\n",
       "      <td>[B-NAME_STUDENT, I-NAME_STUDENT, O, O, O, O, O...</td>\n",
       "      <td>2560</td>\n",
       "    </tr>\n",
       "    <tr>\n",
       "      <th>6803</th>\n",
       "      <td>9188</td>\n",
       "      <td>Design Thinking in Career Development and Coun...</td>\n",
       "      <td>[Design, Thinking, in, Career, Development, an...</td>\n",
       "      <td>[True, True, True, True, True, True, True, Fal...</td>\n",
       "      <td>[O, O, O, O, O, O, O, O, B-NAME_STUDENT, I-NAM...</td>\n",
       "      <td>2749</td>\n",
       "    </tr>\n",
       "    <tr>\n",
       "      <th>6804</th>\n",
       "      <td>10078</td>\n",
       "      <td>Overcoming Barriers - The Story of the Movie a...</td>\n",
       "      <td>[Overcoming, Barriers, -, The, Story, of, the,...</td>\n",
       "      <td>[True, True, True, True, True, True, True, Tru...</td>\n",
       "      <td>[O, O, O, O, O, O, O, O, O, O, O, O, O, O, O, ...</td>\n",
       "      <td>2831</td>\n",
       "    </tr>\n",
       "    <tr>\n",
       "      <th>6805</th>\n",
       "      <td>21720</td>\n",
       "      <td>In this assignment, a reflective report will b...</td>\n",
       "      <td>[In, this, assignment, ,, a, reflective, repor...</td>\n",
       "      <td>[True, True, False, True, True, True, True, Tr...</td>\n",
       "      <td>[O, O, O, O, O, O, O, O, O, O, O, O, O, O, O, ...</td>\n",
       "      <td>2900</td>\n",
       "    </tr>\n",
       "    <tr>\n",
       "      <th>6806</th>\n",
       "      <td>14267</td>\n",
       "      <td>MIAMISBURG, Ohio, Dec. 10, 2019 /PRNewswire/ -...</td>\n",
       "      <td>[MIAMISBURG, ,, Ohio, ,, Dec., 10, ,, 2019, /P...</td>\n",
       "      <td>[False, True, False, True, True, False, True, ...</td>\n",
       "      <td>[O, O, O, O, O, O, O, O, O, O, O, O, O, O, O, ...</td>\n",
       "      <td>3076</td>\n",
       "    </tr>\n",
       "  </tbody>\n",
       "</table>\n",
       "<p>6807 rows × 6 columns</p>\n",
       "</div>"
      ],
      "text/plain": [
       "      document                                          full_text  \\\n",
       "0        13147  Think Twice and Make a Wise\\n\\nConcept Mapping...   \n",
       "1        19614  Who are your target customers?\\n\\nPatients hav...   \n",
       "2        20900  Mind Mapping  selection:\\n\\nMind mapping is us...   \n",
       "3        11469  Construct Your Problems\\n\\nVisualization is on...   \n",
       "4        18959  Reflection writing rubric it represents throug...   \n",
       "...        ...                                                ...   \n",
       "6802      7745  Luis Gonzales  Savitribai Phule Pune Universit...   \n",
       "6803      9188  Design Thinking in Career Development and Coun...   \n",
       "6804     10078  Overcoming Barriers - The Story of the Movie a...   \n",
       "6805     21720  In this assignment, a reflective report will b...   \n",
       "6806     14267  MIAMISBURG, Ohio, Dec. 10, 2019 /PRNewswire/ -...   \n",
       "\n",
       "                                                 tokens  \\\n",
       "0     [Think, Twice, and, Make, a, Wise, [SPACE], Co...   \n",
       "1     [Who, are, your, target, customers, ?, [SPACE]...   \n",
       "2     [Mind, Mapping, [SPACE], selection, :, [SPACE]...   \n",
       "3     [Construct, Your, Problems, [SPACE], Visualiza...   \n",
       "4     [Reflection, writing, rubric, it, represents, ...   \n",
       "...                                                 ...   \n",
       "6802  [Luis, Gonzales, [SPACE], Savitribai, Phule, P...   \n",
       "6803  [Design, Thinking, in, Career, Development, an...   \n",
       "6804  [Overcoming, Barriers, -, The, Story, of, the,...   \n",
       "6805  [In, this, assignment, ,, a, reflective, repor...   \n",
       "6806  [MIAMISBURG, ,, Ohio, ,, Dec., 10, ,, 2019, /P...   \n",
       "\n",
       "                                    trailing_whitespace  \\\n",
       "0     [True, True, True, True, True, False, False, T...   \n",
       "1     [True, True, True, True, False, False, False, ...   \n",
       "2     [True, True, False, False, False, False, True,...   \n",
       "3     [True, True, False, False, True, True, True, T...   \n",
       "4     [True, True, True, True, True, True, False, Tr...   \n",
       "...                                                 ...   \n",
       "6802  [True, True, False, True, True, True, True, Fa...   \n",
       "6803  [True, True, True, True, True, True, True, Fal...   \n",
       "6804  [True, True, True, True, True, True, True, Tru...   \n",
       "6805  [True, True, False, True, True, True, True, Tr...   \n",
       "6806  [False, True, False, True, True, False, True, ...   \n",
       "\n",
       "                                                 labels  \\\n",
       "0     [O, O, O, O, O, O, O, O, O, O, O, O, O, O, O, ...   \n",
       "1     [O, O, O, O, O, O, O, O, O, O, O, O, O, O, O, ...   \n",
       "2     [O, O, O, O, O, O, O, O, O, O, O, O, O, O, O, ...   \n",
       "3     [O, O, O, O, O, O, O, O, O, O, O, O, O, O, O, ...   \n",
       "4     [O, O, O, O, O, O, O, O, O, O, O, O, O, O, O, ...   \n",
       "...                                                 ...   \n",
       "6802  [B-NAME_STUDENT, I-NAME_STUDENT, O, O, O, O, O...   \n",
       "6803  [O, O, O, O, O, O, O, O, B-NAME_STUDENT, I-NAM...   \n",
       "6804  [O, O, O, O, O, O, O, O, O, O, O, O, O, O, O, ...   \n",
       "6805  [O, O, O, O, O, O, O, O, O, O, O, O, O, O, O, ...   \n",
       "6806  [O, O, O, O, O, O, O, O, O, O, O, O, O, O, O, ...   \n",
       "\n",
       "      tokenized_tokens_length  \n",
       "0                          67  \n",
       "1                          68  \n",
       "2                          76  \n",
       "3                          81  \n",
       "4                          84  \n",
       "...                       ...  \n",
       "6802                     2560  \n",
       "6803                     2749  \n",
       "6804                     2831  \n",
       "6805                     2900  \n",
       "6806                     3076  \n",
       "\n",
       "[6807 rows x 6 columns]"
      ]
     },
     "execution_count": 7,
     "metadata": {},
     "output_type": "execute_result"
    }
   ],
   "source": [
    "def replace_space(tokens_list):\n",
    "    return [\"[SPACE]\" if x.isspace() else x for x in tokens_list]\n",
    "\n",
    "\n",
    "def get_tokenized_tokens_length(text):\n",
    "    return len(\n",
    "        tokenizer(text, return_attention_mask=False, return_token_type_ids=False)[\n",
    "            \"input_ids\"\n",
    "        ]\n",
    "    )\n",
    "\n",
    "\n",
    "def data_preprocessing(df):\n",
    "    df[\"tokens\"] = df[\"tokens\"].apply(replace_space)\n",
    "\n",
    "    df[\"tokenized_tokens_length\"] = df[\"full_text\"].apply(\n",
    "        lambda text: get_tokenized_tokens_length(text)\n",
    "    )\n",
    "    df = df.sort_values(by=\"tokenized_tokens_length\", ascending=True).reset_index(\n",
    "        drop=True\n",
    "    )\n",
    "\n",
    "    return df\n",
    "\n",
    "\n",
    "df = data_preprocessing(df=df)\n",
    "df"
   ]
  },
  {
   "cell_type": "code",
   "execution_count": 8,
   "id": "ed7aaa2b",
   "metadata": {
    "execution": {
     "iopub.execute_input": "2024-09-11T16:28:35.887630Z",
     "iopub.status.busy": "2024-09-11T16:28:35.886945Z",
     "iopub.status.idle": "2024-09-11T16:28:38.279448Z",
     "shell.execute_reply": "2024-09-11T16:28:38.278531Z"
    },
    "papermill": {
     "duration": 2.404896,
     "end_time": "2024-09-11T16:28:38.281565",
     "exception": false,
     "start_time": "2024-09-11T16:28:35.876669",
     "status": "completed"
    },
    "tags": []
   },
   "outputs": [
    {
     "data": {
      "text/html": [
       "        <script type=\"text/javascript\">\n",
       "        window.PlotlyConfig = {MathJaxConfig: 'local'};\n",
       "        if (window.MathJax && window.MathJax.Hub && window.MathJax.Hub.Config) {window.MathJax.Hub.Config({SVG: {font: \"STIX-Web\"}});}\n",
       "        if (typeof require !== 'undefined') {\n",
       "        require.undef(\"plotly\");\n",
       "        requirejs.config({\n",
       "            paths: {\n",
       "                'plotly': ['https://cdn.plot.ly/plotly-2.32.0.min']\n",
       "            }\n",
       "        });\n",
       "        require(['plotly'], function(Plotly) {\n",
       "            window._Plotly = Plotly;\n",
       "        });\n",
       "        }\n",
       "        </script>\n",
       "        "
      ]
     },
     "metadata": {},
     "output_type": "display_data"
    },
    {
     "data": {
      "text/html": [
       "<div>                            <div id=\"e896f8da-2af1-491d-bd68-bc2c9f717ab2\" class=\"plotly-graph-div\" style=\"height:525px; width:100%;\"></div>            <script type=\"text/javascript\">                require([\"plotly\"], function(Plotly) {                    window.PLOTLYENV=window.PLOTLYENV || {};                                    if (document.getElementById(\"e896f8da-2af1-491d-bd68-bc2c9f717ab2\")) {                    Plotly.newPlot(                        \"e896f8da-2af1-491d-bd68-bc2c9f717ab2\",                        [{\"alignmentgroup\":\"True\",\"bingroup\":\"x\",\"hovertemplate\":\"x=%{x}\\u003cbr\\u003ecount=%{y}\\u003cextra\\u003e\\u003c\\u002fextra\\u003e\",\"legendgroup\":\"\",\"marker\":{\"color\":\"#636efa\",\"pattern\":{\"shape\":\"\"}},\"name\":\"\",\"offsetgroup\":\"\",\"orientation\":\"v\",\"showlegend\":false,\"x\":[67,68,76,81,84,86,87,91,97,98,102,102,104,106,107,108,110,111,112,113,115,120,121,121,122,123,125,127,128,128,130,130,130,135,135,136,136,138,139,139,140,141,142,144,147,148,148,149,151,153,154,154,155,155,155,157,157,158,158,158,158,158,159,160,163,163,164,165,166,166,166,167,167,168,169,170,171,171,171,171,172,173,174,174,174,175,175,175,176,177,177,178,179,179,180,180,182,182,182,182,183,184,184,184,186,186,186,188,189,189,189,190,191,191,192,193,193,194,195,196,197,198,199,199,200,200,201,202,202,202,203,203,203,204,205,205,205,205,206,206,206,207,207,208,209,210,210,212,213,213,213,213,214,214,214,215,216,216,216,216,217,217,217,218,219,220,220,221,221,221,222,223,223,224,226,227,227,228,229,229,229,230,230,230,230,231,232,233,233,233,234,234,235,235,236,236,236,237,237,238,238,238,238,238,239,239,239,240,241,242,242,242,243,243,244,245,245,245,245,246,246,246,247,247,248,249,249,249,250,251,251,251,251,252,252,252,253,253,254,254,254,255,256,256,256,256,257,257,258,259,259,259,260,260,260,260,261,261,261,261,262,263,263,263,263,264,264,264,264,264,265,265,266,266,266,266,267,268,268,269,269,269,269,270,270,270,270,270,270,270,271,271,271,272,272,272,273,273,273,274,274,275,275,276,276,277,277,278,278,278,278,278,278,278,279,279,280,280,280,280,281,281,281,281,282,282,282,282,283,284,284,284,284,285,285,285,285,286,286,286,287,287,287,287,288,288,290,290,290,290,290,291,291,291,292,292,293,293,293,293,293,294,294,294,295,295,295,295,295,295,296,296,297,297,297,298,298,298,298,298,298,298,300,301,301,302,302,302,302,302,303,303,303,303,303,303,303,303,304,304,304,305,305,305,305,306,306,306,306,307,307,308,308,309,309,310,310,310,310,310,310,310,311,311,311,311,311,311,312,312,312,312,312,313,313,313,314,314,314,314,315,315,315,316,316,316,316,317,317,318,319,319,319,319,320,320,320,320,321,321,321,322,322,322,322,322,322,322,322,323,323,323,323,323,324,324,324,324,324,325,325,325,325,325,325,325,325,326,326,326,326,326,326,326,326,327,327,327,327,328,328,328,328,328,328,328,328,328,329,329,329,329,330,330,330,331,331,331,331,331,332,332,332,332,332,332,332,333,333,333,333,334,334,334,334,334,334,335,335,335,335,335,335,335,335,335,336,336,336,336,336,337,337,337,337,337,337,337,338,338,339,339,339,339,339,340,340,340,341,341,341,341,341,341,341,341,341,341,342,342,342,342,342,342,343,343,343,343,343,343,343,343,344,345,345,345,345,345,346,346,346,346,346,346,346,346,347,348,348,348,348,348,348,349,349,349,349,349,349,349,349,350,350,350,350,350,351,351,351,351,351,351,351,351,352,352,352,352,352,352,353,353,354,354,354,354,354,355,355,355,356,356,356,356,356,356,357,357,357,357,357,357,357,358,358,358,358,358,358,359,359,359,359,359,359,360,360,360,361,361,361,361,362,362,362,362,362,362,362,363,363,363,363,363,363,364,364,364,364,364,364,365,365,365,365,365,365,365,365,365,366,366,366,366,366,366,366,367,367,367,367,367,367,368,368,368,368,368,368,369,369,369,369,369,370,371,371,371,371,371,371,371,371,371,372,372,372,372,372,372,372,372,372,372,372,373,373,373,373,373,374,374,374,374,374,375,375,375,376,376,376,376,376,376,376,376,376,377,377,377,377,377,377,377,378,378,378,378,378,378,378,378,379,379,379,379,379,379,379,379,380,380,380,380,380,380,380,381,381,381,381,381,382,382,382,383,383,383,383,383,384,384,384,384,384,384,384,385,385,385,385,386,386,386,386,386,386,386,387,387,387,387,388,388,388,388,388,388,388,388,388,388,388,388,389,389,389,389,389,389,389,390,390,390,390,390,390,390,391,391,391,391,391,391,391,391,391,391,391,391,391,392,392,392,392,392,392,393,393,393,393,393,394,394,394,394,394,395,395,395,395,395,395,395,395,396,396,396,396,396,397,397,397,398,398,398,398,398,398,398,398,398,399,399,399,399,400,400,400,400,401,401,401,401,401,401,401,401,401,401,401,402,402,402,403,403,403,403,403,403,404,404,404,404,404,404,404,405,405,405,405,405,405,405,405,405,405,405,405,406,406,406,406,406,406,406,406,407,407,407,407,408,408,408,408,408,408,408,409,409,409,409,409,409,409,409,409,409,410,410,410,410,410,410,411,411,411,411,411,411,411,411,411,412,412,412,412,412,413,413,413,413,413,413,413,413,413,414,414,414,414,414,414,414,414,414,415,415,416,416,417,417,417,417,418,418,418,418,418,418,419,419,419,419,419,419,420,420,420,420,420,420,421,421,421,421,421,421,421,421,422,422,422,422,422,422,422,422,423,423,423,423,424,424,424,424,424,424,424,424,424,425,425,425,425,425,425,425,425,425,426,426,426,426,426,426,426,426,426,426,426,427,427,427,427,427,428,428,428,428,428,428,429,429,429,429,429,429,429,429,429,429,429,429,429,430,430,430,430,430,430,430,430,431,431,431,431,431,431,431,431,431,431,432,432,432,432,432,432,432,432,432,433,433,433,433,433,433,433,433,434,434,434,434,434,434,435,435,435,435,435,435,435,435,435,435,435,435,436,436,436,436,436,436,437,437,437,437,438,438,438,438,438,438,438,439,439,439,439,439,439,439,440,440,440,440,440,441,441,441,441,441,441,441,441,442,442,442,442,442,442,442,443,443,443,443,443,443,443,443,443,443,443,443,444,444,444,444,444,444,444,444,444,445,445,445,445,445,445,445,445,445,445,445,446,446,446,446,446,446,446,446,446,446,446,446,447,447,447,447,447,447,447,447,447,447,447,448,448,448,448,448,448,448,448,448,449,449,449,449,449,449,449,449,450,450,450,450,450,450,450,450,450,451,451,451,451,451,451,451,451,451,451,451,451,451,452,452,452,452,452,452,452,452,452,452,453,453,453,453,453,453,453,454,454,454,454,454,454,454,454,454,454,454,454,455,455,455,455,455,455,455,455,455,456,456,456,456,456,457,457,457,457,457,457,457,457,457,458,458,458,458,458,458,459,459,459,459,459,459,459,459,459,459,460,460,460,460,460,460,461,461,461,461,461,461,461,461,461,461,461,462,462,462,462,462,462,462,462,462,462,462,462,463,463,463,463,463,463,463,463,463,463,464,464,464,464,464,464,464,464,464,464,464,464,465,465,465,465,465,465,465,465,465,465,466,466,466,466,466,466,466,466,467,467,467,467,467,467,467,467,467,467,467,467,467,468,468,468,468,468,468,469,469,469,469,469,469,469,470,470,470,470,470,471,471,471,471,471,471,471,471,471,471,471,471,472,472,472,472,472,472,472,473,473,473,473,473,473,473,473,473,473,473,473,473,473,474,474,474,474,474,475,475,475,475,475,475,475,476,476,476,476,476,476,476,476,477,477,477,477,477,477,477,477,477,477,477,477,477,478,478,478,478,478,478,478,478,478,478,478,478,479,479,479,479,479,479,479,479,480,480,480,480,480,480,480,480,480,481,481,481,481,481,481,481,481,482,482,482,482,482,482,482,482,483,483,483,483,483,483,483,483,483,484,484,484,484,484,484,484,484,484,485,485,485,485,485,485,485,486,486,486,486,486,486,486,486,487,487,487,487,487,487,487,487,488,488,488,488,488,488,488,488,488,489,489,489,489,489,489,489,489,489,490,490,490,490,490,490,490,490,490,490,491,491,491,491,491,491,491,491,491,491,491,492,492,492,492,492,492,492,492,492,492,492,492,493,493,493,493,493,493,493,494,494,494,494,494,494,494,494,494,494,495,495,495,495,495,496,496,496,496,496,496,496,496,496,496,496,496,496,496,496,496,496,496,496,497,497,497,497,497,497,497,497,498,498,498,498,498,498,498,498,498,498,498,498,498,499,499,499,499,499,499,499,499,499,499,500,500,500,500,500,500,500,500,500,501,501,501,501,501,501,501,501,501,502,502,502,502,502,502,502,502,502,502,502,502,502,503,503,503,503,503,503,503,503,504,504,504,504,504,504,504,504,504,505,505,505,505,505,505,505,505,505,505,505,505,506,506,506,506,506,506,507,507,507,507,507,507,507,507,507,507,507,507,508,508,508,508,509,509,509,509,509,509,509,509,509,509,509,509,509,510,510,510,510,510,510,510,510,510,510,510,511,511,511,511,511,511,511,511,511,512,512,512,512,512,512,512,512,512,512,512,512,512,512,512,512,513,513,513,513,513,513,513,513,513,514,514,514,514,514,514,514,514,514,514,514,515,515,515,515,515,515,515,515,515,515,515,516,516,516,516,516,516,516,516,516,516,516,516,517,517,517,517,517,517,517,517,518,518,518,518,518,518,518,518,518,518,518,518,518,518,518,519,519,519,519,519,519,520,520,520,520,520,520,520,520,520,520,520,521,521,521,521,521,521,521,521,522,522,522,522,522,522,522,522,522,522,522,522,522,522,522,522,522,523,523,523,523,523,523,523,523,523,523,523,523,523,523,524,524,524,524,524,524,524,524,524,525,525,525,525,525,525,525,525,525,525,525,525,525,525,526,526,526,526,526,526,526,526,526,526,527,527,527,527,527,527,527,528,528,528,528,528,528,528,528,528,528,529,529,529,529,529,529,529,529,530,530,530,530,530,530,530,530,531,531,531,531,531,531,531,532,532,532,532,532,532,532,532,532,532,532,533,533,533,533,533,533,533,533,533,533,533,533,533,534,534,534,534,534,534,534,534,535,535,535,535,535,535,535,535,535,535,535,535,536,536,536,536,536,536,536,536,536,537,537,537,537,537,537,537,537,537,537,538,538,538,538,538,538,538,538,539,539,539,539,539,539,539,539,540,540,540,540,540,540,540,540,540,540,540,540,540,540,541,541,541,541,541,541,541,541,541,541,541,542,542,542,542,542,542,542,542,543,543,543,543,543,543,543,543,543,543,543,544,544,544,544,544,544,544,544,544,545,545,545,545,545,545,545,545,545,545,545,545,545,546,546,546,546,546,546,546,546,546,546,547,547,547,547,547,547,547,547,547,548,548,548,548,548,548,548,548,548,549,549,549,549,549,549,549,549,549,550,550,550,550,550,550,550,550,551,551,551,551,551,551,551,551,551,551,551,551,551,551,552,552,552,552,552,552,552,553,553,553,553,553,553,553,553,553,553,554,554,554,554,554,554,554,554,554,555,555,555,555,555,555,555,555,555,555,555,555,555,556,556,556,556,556,556,556,556,556,556,556,556,556,556,556,556,557,557,557,557,557,557,557,557,557,557,557,557,557,557,557,557,558,558,558,558,558,559,559,559,559,559,559,559,559,559,559,559,559,559,559,559,559,559,559,559,559,559,559,559,559,560,560,560,560,560,561,561,561,561,561,561,561,561,561,561,562,562,562,562,562,562,562,562,562,563,563,563,563,563,563,563,563,563,563,564,564,564,564,564,564,564,564,564,564,565,565,565,565,565,565,565,565,565,565,565,566,566,566,566,566,566,566,566,566,566,566,566,566,567,567,567,567,567,567,567,568,568,568,568,568,568,568,568,568,568,568,568,568,568,569,569,569,569,569,569,569,569,569,569,569,570,570,570,570,570,570,570,570,570,570,571,571,571,571,571,571,571,571,571,571,571,572,572,572,572,572,572,572,573,573,573,573,573,573,573,573,574,574,574,574,574,574,574,574,574,574,575,575,575,575,575,575,575,575,575,575,575,575,575,575,575,575,576,576,576,576,576,576,577,577,577,577,577,577,577,577,577,577,577,578,578,578,578,578,578,578,579,579,579,579,579,579,579,579,579,579,580,580,580,580,580,580,580,580,581,581,581,581,581,581,581,581,581,581,581,581,581,581,582,582,582,582,582,582,582,583,583,583,583,583,583,583,584,584,584,584,584,584,584,584,584,585,585,585,585,585,585,585,585,585,586,586,586,586,586,586,586,587,587,587,587,587,587,587,587,587,587,587,587,587,588,588,588,588,588,588,588,588,588,588,588,588,589,589,589,589,589,589,589,590,590,590,590,590,590,590,591,591,591,591,591,591,591,592,592,592,592,592,592,592,593,593,593,593,593,593,593,593,593,594,594,594,594,594,594,594,594,594,594,595,595,595,595,595,595,595,596,596,596,596,596,596,596,596,596,596,596,596,597,597,597,597,597,597,597,597,597,597,598,598,598,598,598,598,598,598,598,598,599,599,599,599,599,599,599,599,599,599,599,599,599,599,599,599,599,600,600,600,600,600,600,600,600,600,600,601,601,601,601,601,601,601,601,601,602,602,602,602,602,602,602,602,602,602,602,602,602,603,603,603,603,603,603,603,603,603,604,604,604,604,604,604,604,604,605,605,605,605,605,605,605,605,605,605,605,605,605,605,605,606,606,606,606,606,606,606,606,606,606,607,607,607,607,607,607,607,607,607,607,607,607,607,607,607,607,608,608,608,608,608,608,608,608,608,608,609,609,609,609,609,609,609,609,609,609,609,609,609,609,609,610,610,610,610,610,610,610,610,610,610,611,611,611,611,611,611,611,611,611,611,611,611,611,612,612,612,612,612,612,612,612,612,612,613,613,613,613,613,613,613,613,613,613,613,613,613,613,613,614,614,614,614,614,614,614,614,614,615,615,615,615,615,615,615,615,615,615,616,616,616,616,616,616,616,616,617,617,617,617,617,617,617,617,617,617,618,618,618,618,618,618,618,618,618,618,618,619,619,619,619,619,619,620,620,620,620,620,620,620,620,620,620,620,621,621,621,621,621,621,621,621,621,622,622,622,622,622,622,622,622,622,622,622,622,623,623,623,623,623,623,623,623,624,624,624,624,624,624,624,624,624,624,624,625,625,625,625,625,625,625,625,625,625,625,625,625,625,626,626,626,626,626,626,626,626,626,626,626,627,627,627,627,627,627,627,627,628,628,628,628,628,628,628,629,629,629,629,629,629,629,629,629,629,630,630,630,630,630,630,630,630,630,630,630,630,631,631,631,631,631,631,632,632,632,632,632,632,632,632,632,633,633,633,634,634,634,634,634,634,634,634,634,634,634,635,635,635,635,635,635,635,635,635,635,635,635,635,635,635,635,635,636,636,636,636,636,636,636,636,636,637,637,637,637,637,637,637,637,637,637,638,638,638,638,638,638,638,638,638,638,638,638,639,639,639,639,639,639,639,639,639,639,640,640,640,640,640,640,640,640,640,640,640,640,640,641,641,641,641,641,641,641,641,641,641,642,642,642,642,642,642,642,642,642,642,642,642,642,642,642,643,643,643,643,643,643,643,643,644,644,644,644,644,645,645,645,645,645,645,645,645,645,645,645,645,645,645,645,645,646,646,646,646,646,646,646,646,646,646,646,646,646,646,646,646,647,647,647,647,647,647,647,647,647,647,648,648,648,648,648,648,648,648,648,648,648,648,648,649,649,649,649,649,649,649,649,649,649,649,649,649,650,650,650,650,650,650,650,650,651,651,651,651,651,651,651,651,651,651,651,651,651,651,651,651,652,652,652,652,652,652,652,653,653,653,653,653,653,653,653,653,653,654,654,654,654,654,654,654,654,654,654,655,655,655,655,655,655,655,655,655,655,655,655,655,655,656,656,656,656,656,656,656,656,656,656,656,657,657,657,657,657,657,657,657,657,657,657,658,658,658,658,658,658,658,658,658,658,658,658,659,659,659,659,659,659,659,659,659,659,659,659,659,660,660,660,660,660,660,660,660,660,660,660,660,661,661,661,661,661,661,661,661,661,661,661,661,661,662,662,662,662,662,662,662,662,662,662,662,662,663,663,663,663,663,663,663,663,663,663,663,664,664,664,664,664,664,664,664,664,664,664,665,665,665,665,665,665,665,666,666,666,666,666,666,666,666,666,666,666,666,667,667,667,667,667,667,667,667,667,667,667,667,668,668,668,668,668,668,668,668,668,668,668,669,669,669,669,669,669,669,669,669,669,670,670,670,670,670,670,670,670,670,670,670,670,670,671,671,671,671,671,671,671,671,671,672,672,672,672,672,672,672,672,672,672,672,672,672,672,673,673,673,673,673,673,673,674,674,674,674,674,674,674,674,674,675,675,675,675,675,675,675,675,675,676,676,676,676,676,676,676,677,677,677,677,677,677,677,677,677,678,678,678,678,678,678,678,678,678,678,678,679,679,679,679,679,679,679,679,679,679,679,679,679,679,680,680,680,680,680,680,680,680,680,680,680,680,681,681,681,681,681,681,681,681,681,681,682,682,682,682,682,682,682,682,682,682,683,683,683,683,683,683,683,683,683,683,683,683,683,683,684,684,684,684,684,684,684,684,684,685,685,685,685,685,685,685,685,685,685,685,685,685,685,685,685,685,685,685,686,686,686,686,686,687,687,687,687,687,687,687,687,687,687,688,688,688,688,688,688,688,688,688,688,688,689,689,689,689,689,689,689,689,689,689,689,689,689,689,689,690,690,690,690,690,690,690,690,690,690,690,690,691,691,691,691,691,691,691,691,692,692,692,692,692,692,692,692,692,692,692,692,692,693,693,693,693,693,693,693,693,693,693,694,694,694,694,694,694,694,694,695,695,695,695,695,695,695,695,695,695,696,696,696,696,696,696,696,696,696,696,696,696,696,696,696,697,697,697,697,697,697,697,697,697,697,697,698,698,698,698,698,698,699,699,699,699,699,699,699,699,699,699,699,699,699,700,700,700,700,700,700,700,701,701,701,701,701,701,701,701,701,701,701,701,701,702,702,702,702,702,702,702,703,703,703,703,703,703,703,703,703,704,704,704,704,704,704,704,704,704,704,704,704,704,704,704,705,705,705,705,705,705,705,705,706,706,706,706,706,706,706,706,706,706,706,707,707,707,707,707,708,708,708,708,708,708,708,708,708,709,709,709,709,709,709,709,709,709,709,710,710,710,710,710,710,710,710,710,710,711,711,711,711,711,711,711,712,712,712,712,712,712,712,712,712,712,712,712,712,713,713,713,713,713,713,713,713,714,714,714,714,714,714,714,714,714,715,715,715,715,715,715,715,715,715,715,716,716,716,716,716,717,717,717,717,717,717,717,717,717,717,717,717,717,717,717,717,717,718,718,718,718,718,718,718,718,718,718,718,718,718,718,718,719,719,719,719,719,719,719,719,719,719,719,720,720,720,720,720,720,720,720,720,720,720,721,721,721,721,721,721,721,722,722,722,722,722,722,723,723,723,723,723,723,723,723,723,723,723,723,723,723,723,724,724,724,724,724,724,725,725,725,725,725,725,725,725,725,726,726,726,726,726,726,726,726,726,726,726,726,726,726,726,727,727,727,727,727,727,727,727,727,728,728,728,728,729,729,729,729,729,729,729,729,729,729,730,730,730,730,730,730,730,731,731,731,731,731,731,731,731,731,731,731,731,731,732,732,732,732,732,732,732,732,733,733,733,733,733,733,734,734,734,734,734,735,735,735,735,735,735,736,736,736,736,736,736,736,736,736,737,737,737,737,737,737,737,737,737,737,737,738,738,738,738,738,738,738,739,739,739,739,739,739,739,740,740,740,740,740,740,740,740,740,740,741,741,741,741,741,741,741,741,741,741,742,742,742,742,742,742,742,742,742,742,742,742,742,743,743,743,743,743,743,743,743,744,744,744,744,744,744,744,744,745,745,745,745,745,745,745,745,745,745,745,746,746,746,746,746,746,746,747,747,747,747,747,747,747,747,747,747,748,748,748,748,748,748,748,748,748,748,749,749,749,749,750,750,750,750,750,750,750,751,751,751,751,751,751,751,751,751,752,752,752,752,752,752,752,752,753,753,753,753,753,754,754,754,754,754,754,754,755,755,755,755,755,755,755,755,755,755,755,755,755,755,756,756,756,756,756,756,756,756,756,756,757,757,757,757,757,757,757,757,757,757,757,757,758,758,758,758,758,758,758,758,758,758,758,759,759,759,759,759,759,759,759,759,759,759,759,760,760,760,760,760,760,760,760,760,760,761,761,761,761,761,761,761,761,761,761,761,761,761,762,762,762,762,762,762,762,763,763,763,763,763,763,763,763,764,764,764,764,764,764,764,765,765,765,765,765,765,765,765,766,766,766,766,766,766,766,767,767,767,767,767,767,767,767,767,767,767,767,767,767,768,768,768,768,768,768,768,768,768,768,768,769,769,769,769,769,769,769,769,770,770,770,770,770,770,771,771,771,771,772,772,772,772,773,773,773,774,774,774,774,774,774,774,775,775,775,775,775,775,775,775,775,775,775,776,776,776,776,776,776,776,776,776,776,776,777,777,777,777,777,777,778,778,778,778,779,779,779,779,779,779,779,780,780,780,780,780,780,780,780,780,781,781,781,781,781,781,781,781,781,781,781,782,782,782,782,783,783,783,783,784,784,784,784,784,784,784,784,784,784,785,785,785,785,785,785,785,785,785,785,785,785,785,785,785,785,786,786,786,786,786,786,787,787,787,787,787,787,787,787,787,787,788,788,788,788,789,789,789,789,789,789,789,789,789,789,789,790,790,790,790,790,790,790,791,791,791,792,792,792,792,792,792,792,792,792,792,792,793,793,793,793,793,793,793,793,794,794,794,794,794,794,794,794,794,794,795,795,795,795,796,796,796,796,796,797,797,797,797,797,797,798,798,798,798,798,798,798,798,798,798,798,798,798,798,798,798,798,798,799,799,799,799,799,799,799,799,799,799,800,800,800,800,800,800,800,800,800,800,801,801,801,801,801,801,801,801,801,801,801,802,802,802,802,802,802,802,802,802,803,803,803,803,804,804,804,804,804,805,805,805,806,806,806,806,806,806,806,806,806,807,807,807,807,807,807,807,808,808,808,808,808,809,809,809,809,809,809,810,810,811,811,811,811,811,812,812,812,812,813,813,813,813,813,813,813,813,814,814,814,814,814,814,815,815,815,816,816,816,816,816,816,816,816,816,816,816,816,816,817,817,817,817,817,817,817,817,817,817,817,818,818,818,818,818,819,819,819,819,819,819,820,820,820,820,820,820,820,820,821,821,821,821,821,821,821,821,821,822,822,823,823,823,823,823,823,824,824,824,824,824,824,825,825,825,825,825,825,825,825,825,825,826,826,826,826,826,826,826,826,826,826,826,827,827,827,827,827,827,827,827,827,827,827,828,828,828,828,828,829,829,830,830,830,830,830,830,830,830,830,830,831,831,831,831,831,831,831,831,831,831,831,831,831,832,832,832,832,832,832,832,832,832,832,833,833,833,833,833,833,833,834,834,834,834,834,834,835,835,835,835,835,835,836,836,836,836,836,836,836,836,836,837,837,837,837,837,837,837,837,837,838,839,839,839,839,839,839,839,839,840,840,840,840,841,841,841,841,842,842,842,842,842,842,842,842,842,843,843,843,843,843,843,843,843,843,843,843,843,844,844,844,844,844,844,844,844,844,845,845,845,845,845,845,845,845,846,846,846,846,846,846,846,846,846,847,847,847,847,847,847,847,848,848,848,848,848,848,848,848,849,849,849,849,850,850,850,850,850,851,851,851,851,851,851,851,851,852,852,852,852,852,852,852,853,853,853,853,853,853,853,853,854,854,854,854,854,854,854,855,855,855,855,855,855,855,855,855,855,855,855,855,856,856,856,856,856,857,857,857,857,857,857,857,857,858,858,858,858,858,858,859,859,859,859,859,859,859,860,860,860,860,860,861,861,861,861,861,861,861,861,861,861,861,862,862,863,863,863,863,863,863,863,864,864,864,864,864,864,865,865,865,865,866,866,866,866,866,866,866,866,866,866,866,866,866,867,867,867,867,867,867,867,867,867,868,868,868,868,868,868,868,868,868,868,868,868,868,869,869,869,869,869,869,869,869,869,869,870,870,870,870,870,870,871,871,871,871,871,871,872,872,872,872,872,872,872,872,873,873,873,874,874,874,874,874,874,874,874,874,875,875,875,875,875,876,876,876,876,876,877,877,877,878,878,878,878,878,879,879,879,879,879,879,880,880,880,880,880,880,880,880,880,880,880,881,881,881,881,881,881,881,881,882,882,882,882,883,883,883,883,883,883,884,884,884,885,885,886,886,886,886,887,887,887,887,887,887,887,888,888,888,888,888,888,888,888,888,888,890,890,890,890,890,890,890,890,891,891,891,891,891,891,892,892,892,892,892,893,894,894,894,894,894,894,894,895,895,895,895,895,895,895,895,896,896,896,896,896,896,896,897,897,897,897,897,897,897,897,898,898,898,898,898,899,899,900,900,900,900,900,900,900,900,901,901,901,901,901,901,902,902,902,902,902,903,903,903,903,903,904,904,904,904,904,905,905,905,905,905,905,905,905,905,905,905,905,906,906,906,906,906,906,907,907,907,908,908,908,909,909,910,910,910,910,910,910,910,910,910,910,911,911,911,911,911,911,911,911,911,912,912,912,912,913,913,913,913,914,914,914,914,914,915,915,916,916,916,916,916,916,917,917,917,917,917,917,917,917,918,918,918,918,919,919,919,919,919,920,920,920,920,920,920,920,921,921,921,921,922,922,923,923,924,924,924,924,924,924,925,925,925,925,925,925,925,926,926,926,926,926,926,926,927,927,927,927,927,928,928,928,928,928,929,929,929,929,929,929,929,930,930,931,931,931,931,931,931,932,932,932,932,932,932,932,933,933,933,933,933,933,933,933,933,933,933,933,934,934,934,934,935,935,935,935,935,936,936,936,936,936,936,936,936,937,937,937,937,937,937,937,938,938,938,938,938,938,938,938,938,938,939,939,939,939,939,940,940,941,941,941,941,941,941,941,941,942,942,942,942,942,942,943,943,943,943,943,944,945,945,945,945,945,945,945,945,946,946,946,946,946,946,946,946,947,947,947,947,947,948,948,948,949,949,949,949,949,949,950,950,950,950,950,950,951,951,952,952,952,952,952,952,952,952,953,954,954,954,954,954,954,954,955,956,956,956,957,957,957,957,957,958,958,958,958,958,958,958,958,958,958,958,959,959,960,960,960,960,960,960,960,960,960,960,960,960,960,960,961,961,961,961,961,961,961,961,961,961,961,961,961,961,961,962,962,962,962,962,962,962,962,963,963,963,963,963,963,963,963,963,963,963,963,964,964,964,964,964,964,964,964,964,964,964,965,965,965,966,966,966,966,966,966,966,966,967,967,967,967,967,967,968,968,969,969,969,970,970,970,970,972,972,972,972,972,973,973,973,973,973,973,974,975,975,975,976,976,976,976,977,978,978,978,978,978,978,979,979,979,979,979,979,979,980,980,980,980,980,981,981,981,981,981,982,982,982,982,983,983,983,984,984,984,985,985,985,985,985,986,986,987,987,987,987,988,989,989,989,989,989,990,990,991,991,991,991,992,992,993,993,993,993,993,994,994,994,994,994,994,994,994,995,995,995,996,997,997,998,998,998,998,999,999,999,999,1000,1000,1000,1001,1001,1001,1001,1002,1002,1002,1002,1002,1002,1003,1003,1003,1003,1003,1003,1003,1003,1003,1004,1004,1004,1005,1005,1005,1006,1006,1006,1006,1006,1006,1007,1007,1008,1008,1008,1008,1008,1008,1009,1009,1009,1009,1009,1010,1010,1010,1011,1011,1012,1012,1013,1013,1013,1013,1014,1014,1014,1014,1014,1014,1015,1015,1015,1015,1016,1016,1017,1017,1017,1018,1018,1018,1018,1018,1018,1019,1019,1019,1019,1020,1020,1020,1020,1021,1021,1021,1022,1022,1022,1022,1023,1023,1023,1023,1023,1023,1024,1024,1024,1024,1025,1026,1026,1026,1026,1027,1028,1028,1029,1029,1029,1029,1030,1030,1030,1030,1030,1031,1032,1032,1032,1032,1033,1033,1033,1035,1035,1036,1036,1037,1037,1037,1038,1038,1038,1038,1039,1039,1039,1039,1039,1040,1040,1040,1042,1042,1042,1043,1043,1043,1043,1043,1044,1045,1045,1045,1046,1046,1046,1047,1047,1047,1047,1047,1048,1048,1048,1048,1050,1051,1051,1051,1052,1052,1052,1052,1052,1053,1053,1053,1053,1054,1054,1056,1057,1057,1057,1057,1057,1058,1058,1058,1059,1059,1059,1059,1060,1060,1060,1060,1061,1061,1063,1064,1064,1065,1065,1065,1065,1065,1066,1066,1066,1067,1067,1067,1068,1068,1068,1069,1069,1069,1069,1069,1069,1069,1070,1070,1070,1072,1072,1072,1073,1073,1073,1073,1074,1074,1075,1075,1075,1076,1077,1077,1078,1078,1078,1078,1079,1079,1079,1080,1080,1080,1081,1081,1081,1082,1082,1082,1083,1083,1083,1084,1084,1085,1086,1086,1086,1087,1087,1089,1089,1090,1090,1090,1090,1092,1092,1092,1093,1093,1093,1094,1095,1095,1095,1095,1096,1097,1097,1098,1098,1099,1099,1100,1101,1101,1101,1101,1102,1102,1103,1104,1106,1106,1108,1108,1109,1109,1109,1111,1111,1111,1112,1112,1112,1113,1113,1114,1114,1114,1115,1115,1116,1116,1117,1117,1118,1118,1118,1118,1118,1119,1120,1121,1121,1122,1123,1124,1124,1124,1125,1125,1125,1126,1126,1127,1128,1128,1129,1129,1129,1129,1130,1131,1132,1132,1134,1134,1134,1134,1135,1136,1136,1136,1137,1137,1137,1138,1139,1139,1140,1140,1140,1141,1142,1142,1143,1143,1144,1144,1147,1147,1147,1147,1148,1149,1150,1150,1150,1150,1151,1151,1151,1152,1152,1152,1152,1153,1153,1153,1154,1154,1154,1154,1155,1156,1156,1156,1157,1157,1157,1158,1158,1160,1160,1161,1161,1161,1161,1163,1163,1164,1164,1165,1167,1167,1167,1168,1168,1168,1169,1169,1170,1171,1171,1172,1172,1172,1172,1172,1172,1172,1173,1173,1173,1174,1174,1174,1174,1175,1176,1176,1176,1178,1178,1178,1179,1181,1181,1183,1183,1183,1183,1184,1186,1186,1186,1187,1187,1187,1188,1188,1189,1190,1190,1191,1192,1192,1192,1193,1193,1194,1194,1194,1196,1196,1197,1197,1198,1198,1200,1200,1201,1201,1201,1202,1202,1203,1203,1203,1204,1204,1205,1205,1206,1206,1210,1210,1211,1211,1213,1213,1213,1214,1214,1214,1216,1216,1216,1216,1218,1218,1218,1218,1220,1223,1223,1224,1225,1225,1225,1225,1225,1225,1228,1228,1229,1229,1230,1231,1231,1231,1232,1232,1232,1234,1234,1235,1235,1235,1236,1236,1237,1238,1238,1239,1239,1240,1242,1243,1243,1244,1244,1244,1244,1246,1247,1248,1249,1249,1250,1250,1251,1251,1251,1253,1254,1254,1254,1255,1255,1257,1257,1258,1259,1260,1261,1261,1264,1264,1264,1265,1266,1266,1266,1267,1267,1268,1269,1271,1272,1273,1273,1275,1275,1276,1276,1277,1279,1280,1284,1286,1287,1289,1289,1290,1291,1292,1292,1293,1293,1296,1296,1298,1298,1300,1301,1301,1301,1302,1303,1304,1305,1306,1306,1307,1307,1308,1308,1309,1309,1309,1310,1311,1311,1313,1313,1314,1314,1317,1318,1319,1321,1324,1326,1327,1328,1329,1331,1332,1334,1334,1336,1337,1337,1337,1338,1339,1339,1340,1341,1341,1346,1346,1346,1346,1346,1347,1347,1347,1348,1349,1349,1351,1351,1353,1355,1355,1355,1355,1356,1356,1357,1359,1364,1365,1365,1365,1366,1367,1369,1372,1375,1375,1376,1376,1382,1388,1392,1393,1394,1394,1395,1396,1397,1398,1399,1400,1400,1402,1403,1404,1406,1406,1407,1410,1410,1411,1412,1413,1414,1416,1417,1419,1421,1427,1427,1429,1429,1430,1432,1433,1435,1439,1445,1446,1446,1447,1452,1456,1457,1457,1460,1464,1467,1471,1473,1473,1478,1482,1482,1488,1491,1494,1496,1501,1505,1505,1521,1533,1535,1536,1536,1542,1549,1553,1554,1555,1555,1556,1557,1559,1560,1563,1566,1567,1573,1574,1586,1587,1588,1593,1594,1594,1600,1600,1605,1607,1611,1611,1612,1620,1625,1626,1631,1632,1642,1644,1645,1647,1652,1654,1659,1680,1692,1694,1695,1703,1712,1733,1733,1762,1762,1769,1774,1778,1779,1786,1790,1800,1824,1828,1831,1833,1834,1852,1888,1894,1921,1924,1940,1945,2008,2022,2034,2044,2057,2063,2147,2172,2175,2192,2341,2372,2546,2560,2749,2831,2900,3076],\"xaxis\":\"x\",\"yaxis\":\"y\",\"type\":\"histogram\"}],                        {\"template\":{\"data\":{\"histogram2dcontour\":[{\"type\":\"histogram2dcontour\",\"colorbar\":{\"outlinewidth\":0,\"ticks\":\"\"},\"colorscale\":[[0.0,\"#0d0887\"],[0.1111111111111111,\"#46039f\"],[0.2222222222222222,\"#7201a8\"],[0.3333333333333333,\"#9c179e\"],[0.4444444444444444,\"#bd3786\"],[0.5555555555555556,\"#d8576b\"],[0.6666666666666666,\"#ed7953\"],[0.7777777777777778,\"#fb9f3a\"],[0.8888888888888888,\"#fdca26\"],[1.0,\"#f0f921\"]]}],\"choropleth\":[{\"type\":\"choropleth\",\"colorbar\":{\"outlinewidth\":0,\"ticks\":\"\"}}],\"histogram2d\":[{\"type\":\"histogram2d\",\"colorbar\":{\"outlinewidth\":0,\"ticks\":\"\"},\"colorscale\":[[0.0,\"#0d0887\"],[0.1111111111111111,\"#46039f\"],[0.2222222222222222,\"#7201a8\"],[0.3333333333333333,\"#9c179e\"],[0.4444444444444444,\"#bd3786\"],[0.5555555555555556,\"#d8576b\"],[0.6666666666666666,\"#ed7953\"],[0.7777777777777778,\"#fb9f3a\"],[0.8888888888888888,\"#fdca26\"],[1.0,\"#f0f921\"]]}],\"heatmap\":[{\"type\":\"heatmap\",\"colorbar\":{\"outlinewidth\":0,\"ticks\":\"\"},\"colorscale\":[[0.0,\"#0d0887\"],[0.1111111111111111,\"#46039f\"],[0.2222222222222222,\"#7201a8\"],[0.3333333333333333,\"#9c179e\"],[0.4444444444444444,\"#bd3786\"],[0.5555555555555556,\"#d8576b\"],[0.6666666666666666,\"#ed7953\"],[0.7777777777777778,\"#fb9f3a\"],[0.8888888888888888,\"#fdca26\"],[1.0,\"#f0f921\"]]}],\"heatmapgl\":[{\"type\":\"heatmapgl\",\"colorbar\":{\"outlinewidth\":0,\"ticks\":\"\"},\"colorscale\":[[0.0,\"#0d0887\"],[0.1111111111111111,\"#46039f\"],[0.2222222222222222,\"#7201a8\"],[0.3333333333333333,\"#9c179e\"],[0.4444444444444444,\"#bd3786\"],[0.5555555555555556,\"#d8576b\"],[0.6666666666666666,\"#ed7953\"],[0.7777777777777778,\"#fb9f3a\"],[0.8888888888888888,\"#fdca26\"],[1.0,\"#f0f921\"]]}],\"contourcarpet\":[{\"type\":\"contourcarpet\",\"colorbar\":{\"outlinewidth\":0,\"ticks\":\"\"}}],\"contour\":[{\"type\":\"contour\",\"colorbar\":{\"outlinewidth\":0,\"ticks\":\"\"},\"colorscale\":[[0.0,\"#0d0887\"],[0.1111111111111111,\"#46039f\"],[0.2222222222222222,\"#7201a8\"],[0.3333333333333333,\"#9c179e\"],[0.4444444444444444,\"#bd3786\"],[0.5555555555555556,\"#d8576b\"],[0.6666666666666666,\"#ed7953\"],[0.7777777777777778,\"#fb9f3a\"],[0.8888888888888888,\"#fdca26\"],[1.0,\"#f0f921\"]]}],\"surface\":[{\"type\":\"surface\",\"colorbar\":{\"outlinewidth\":0,\"ticks\":\"\"},\"colorscale\":[[0.0,\"#0d0887\"],[0.1111111111111111,\"#46039f\"],[0.2222222222222222,\"#7201a8\"],[0.3333333333333333,\"#9c179e\"],[0.4444444444444444,\"#bd3786\"],[0.5555555555555556,\"#d8576b\"],[0.6666666666666666,\"#ed7953\"],[0.7777777777777778,\"#fb9f3a\"],[0.8888888888888888,\"#fdca26\"],[1.0,\"#f0f921\"]]}],\"mesh3d\":[{\"type\":\"mesh3d\",\"colorbar\":{\"outlinewidth\":0,\"ticks\":\"\"}}],\"scatter\":[{\"fillpattern\":{\"fillmode\":\"overlay\",\"size\":10,\"solidity\":0.2},\"type\":\"scatter\"}],\"parcoords\":[{\"type\":\"parcoords\",\"line\":{\"colorbar\":{\"outlinewidth\":0,\"ticks\":\"\"}}}],\"scatterpolargl\":[{\"type\":\"scatterpolargl\",\"marker\":{\"colorbar\":{\"outlinewidth\":0,\"ticks\":\"\"}}}],\"bar\":[{\"error_x\":{\"color\":\"#2a3f5f\"},\"error_y\":{\"color\":\"#2a3f5f\"},\"marker\":{\"line\":{\"color\":\"#E5ECF6\",\"width\":0.5},\"pattern\":{\"fillmode\":\"overlay\",\"size\":10,\"solidity\":0.2}},\"type\":\"bar\"}],\"scattergeo\":[{\"type\":\"scattergeo\",\"marker\":{\"colorbar\":{\"outlinewidth\":0,\"ticks\":\"\"}}}],\"scatterpolar\":[{\"type\":\"scatterpolar\",\"marker\":{\"colorbar\":{\"outlinewidth\":0,\"ticks\":\"\"}}}],\"histogram\":[{\"marker\":{\"pattern\":{\"fillmode\":\"overlay\",\"size\":10,\"solidity\":0.2}},\"type\":\"histogram\"}],\"scattergl\":[{\"type\":\"scattergl\",\"marker\":{\"colorbar\":{\"outlinewidth\":0,\"ticks\":\"\"}}}],\"scatter3d\":[{\"type\":\"scatter3d\",\"line\":{\"colorbar\":{\"outlinewidth\":0,\"ticks\":\"\"}},\"marker\":{\"colorbar\":{\"outlinewidth\":0,\"ticks\":\"\"}}}],\"scattermapbox\":[{\"type\":\"scattermapbox\",\"marker\":{\"colorbar\":{\"outlinewidth\":0,\"ticks\":\"\"}}}],\"scatterternary\":[{\"type\":\"scatterternary\",\"marker\":{\"colorbar\":{\"outlinewidth\":0,\"ticks\":\"\"}}}],\"scattercarpet\":[{\"type\":\"scattercarpet\",\"marker\":{\"colorbar\":{\"outlinewidth\":0,\"ticks\":\"\"}}}],\"carpet\":[{\"aaxis\":{\"endlinecolor\":\"#2a3f5f\",\"gridcolor\":\"white\",\"linecolor\":\"white\",\"minorgridcolor\":\"white\",\"startlinecolor\":\"#2a3f5f\"},\"baxis\":{\"endlinecolor\":\"#2a3f5f\",\"gridcolor\":\"white\",\"linecolor\":\"white\",\"minorgridcolor\":\"white\",\"startlinecolor\":\"#2a3f5f\"},\"type\":\"carpet\"}],\"table\":[{\"cells\":{\"fill\":{\"color\":\"#EBF0F8\"},\"line\":{\"color\":\"white\"}},\"header\":{\"fill\":{\"color\":\"#C8D4E3\"},\"line\":{\"color\":\"white\"}},\"type\":\"table\"}],\"barpolar\":[{\"marker\":{\"line\":{\"color\":\"#E5ECF6\",\"width\":0.5},\"pattern\":{\"fillmode\":\"overlay\",\"size\":10,\"solidity\":0.2}},\"type\":\"barpolar\"}],\"pie\":[{\"automargin\":true,\"type\":\"pie\"}]},\"layout\":{\"autotypenumbers\":\"strict\",\"colorway\":[\"#636efa\",\"#EF553B\",\"#00cc96\",\"#ab63fa\",\"#FFA15A\",\"#19d3f3\",\"#FF6692\",\"#B6E880\",\"#FF97FF\",\"#FECB52\"],\"font\":{\"color\":\"#2a3f5f\"},\"hovermode\":\"closest\",\"hoverlabel\":{\"align\":\"left\"},\"paper_bgcolor\":\"white\",\"plot_bgcolor\":\"#E5ECF6\",\"polar\":{\"bgcolor\":\"#E5ECF6\",\"angularaxis\":{\"gridcolor\":\"white\",\"linecolor\":\"white\",\"ticks\":\"\"},\"radialaxis\":{\"gridcolor\":\"white\",\"linecolor\":\"white\",\"ticks\":\"\"}},\"ternary\":{\"bgcolor\":\"#E5ECF6\",\"aaxis\":{\"gridcolor\":\"white\",\"linecolor\":\"white\",\"ticks\":\"\"},\"baxis\":{\"gridcolor\":\"white\",\"linecolor\":\"white\",\"ticks\":\"\"},\"caxis\":{\"gridcolor\":\"white\",\"linecolor\":\"white\",\"ticks\":\"\"}},\"coloraxis\":{\"colorbar\":{\"outlinewidth\":0,\"ticks\":\"\"}},\"colorscale\":{\"sequential\":[[0.0,\"#0d0887\"],[0.1111111111111111,\"#46039f\"],[0.2222222222222222,\"#7201a8\"],[0.3333333333333333,\"#9c179e\"],[0.4444444444444444,\"#bd3786\"],[0.5555555555555556,\"#d8576b\"],[0.6666666666666666,\"#ed7953\"],[0.7777777777777778,\"#fb9f3a\"],[0.8888888888888888,\"#fdca26\"],[1.0,\"#f0f921\"]],\"sequentialminus\":[[0.0,\"#0d0887\"],[0.1111111111111111,\"#46039f\"],[0.2222222222222222,\"#7201a8\"],[0.3333333333333333,\"#9c179e\"],[0.4444444444444444,\"#bd3786\"],[0.5555555555555556,\"#d8576b\"],[0.6666666666666666,\"#ed7953\"],[0.7777777777777778,\"#fb9f3a\"],[0.8888888888888888,\"#fdca26\"],[1.0,\"#f0f921\"]],\"diverging\":[[0,\"#8e0152\"],[0.1,\"#c51b7d\"],[0.2,\"#de77ae\"],[0.3,\"#f1b6da\"],[0.4,\"#fde0ef\"],[0.5,\"#f7f7f7\"],[0.6,\"#e6f5d0\"],[0.7,\"#b8e186\"],[0.8,\"#7fbc41\"],[0.9,\"#4d9221\"],[1,\"#276419\"]]},\"xaxis\":{\"gridcolor\":\"white\",\"linecolor\":\"white\",\"ticks\":\"\",\"title\":{\"standoff\":15},\"zerolinecolor\":\"white\",\"automargin\":true,\"zerolinewidth\":2},\"yaxis\":{\"gridcolor\":\"white\",\"linecolor\":\"white\",\"ticks\":\"\",\"title\":{\"standoff\":15},\"zerolinecolor\":\"white\",\"automargin\":true,\"zerolinewidth\":2},\"scene\":{\"xaxis\":{\"backgroundcolor\":\"#E5ECF6\",\"gridcolor\":\"white\",\"linecolor\":\"white\",\"showbackground\":true,\"ticks\":\"\",\"zerolinecolor\":\"white\",\"gridwidth\":2},\"yaxis\":{\"backgroundcolor\":\"#E5ECF6\",\"gridcolor\":\"white\",\"linecolor\":\"white\",\"showbackground\":true,\"ticks\":\"\",\"zerolinecolor\":\"white\",\"gridwidth\":2},\"zaxis\":{\"backgroundcolor\":\"#E5ECF6\",\"gridcolor\":\"white\",\"linecolor\":\"white\",\"showbackground\":true,\"ticks\":\"\",\"zerolinecolor\":\"white\",\"gridwidth\":2}},\"shapedefaults\":{\"line\":{\"color\":\"#2a3f5f\"}},\"annotationdefaults\":{\"arrowcolor\":\"#2a3f5f\",\"arrowhead\":0,\"arrowwidth\":1},\"geo\":{\"bgcolor\":\"white\",\"landcolor\":\"#E5ECF6\",\"subunitcolor\":\"white\",\"showland\":true,\"showlakes\":true,\"lakecolor\":\"white\"},\"title\":{\"x\":0.05},\"mapbox\":{\"style\":\"light\"}}},\"xaxis\":{\"anchor\":\"y\",\"domain\":[0.0,1.0],\"title\":{\"text\":\"x\"}},\"yaxis\":{\"anchor\":\"x\",\"domain\":[0.0,1.0],\"title\":{\"text\":\"count\"}},\"legend\":{\"tracegroupgap\":0},\"margin\":{\"t\":60},\"barmode\":\"relative\"},                        {\"responsive\": true}                    ).then(function(){\n",
       "                            \n",
       "var gd = document.getElementById('e896f8da-2af1-491d-bd68-bc2c9f717ab2');\n",
       "var x = new MutationObserver(function (mutations, observer) {{\n",
       "        var display = window.getComputedStyle(gd).display;\n",
       "        if (!display || display === 'none') {{\n",
       "            console.log([gd, 'removed!']);\n",
       "            Plotly.purge(gd);\n",
       "            observer.disconnect();\n",
       "        }}\n",
       "}});\n",
       "\n",
       "// Listen for the removal of the full notebook cells\n",
       "var notebookContainer = gd.closest('#notebook-container');\n",
       "if (notebookContainer) {{\n",
       "    x.observe(notebookContainer, {childList: true});\n",
       "}}\n",
       "\n",
       "// Listen for the clearing of the current output cell\n",
       "var outputEl = gd.closest('.output');\n",
       "if (outputEl) {{\n",
       "    x.observe(outputEl, {childList: true});\n",
       "}}\n",
       "\n",
       "                        })                };                });            </script>        </div>"
      ]
     },
     "metadata": {},
     "output_type": "display_data"
    }
   ],
   "source": [
    "import plotly.express as px\n",
    "fig = px.histogram(x=df[\"tokenized_tokens_length\"])\n",
    "fig.show()"
   ]
  },
  {
   "cell_type": "code",
   "execution_count": 9,
   "id": "5da9003e",
   "metadata": {
    "execution": {
     "iopub.execute_input": "2024-09-11T16:28:38.303566Z",
     "iopub.status.busy": "2024-09-11T16:28:38.303247Z",
     "iopub.status.idle": "2024-09-11T16:28:38.328128Z",
     "shell.execute_reply": "2024-09-11T16:28:38.327267Z"
    },
    "papermill": {
     "duration": 0.038097,
     "end_time": "2024-09-11T16:28:38.330145",
     "exception": false,
     "start_time": "2024-09-11T16:28:38.292048",
     "status": "completed"
    },
    "tags": []
   },
   "outputs": [
    {
     "data": {
      "text/plain": [
       "((5445, 7), (1362, 7))"
      ]
     },
     "execution_count": 9,
     "metadata": {},
     "output_type": "execute_result"
    }
   ],
   "source": [
    "if not Config.sample_only:\n",
    "    Config.split_config[\"stratify\"] = pd.cut(\n",
    "        df[\"tokenized_tokens_length\"], bins=10, labels=False\n",
    "    )\n",
    "\n",
    "train_df, test_df = train_test_split(df, **Config.split_config)\n",
    "train_df.reset_index(inplace=True)\n",
    "train_df = train_df.sort_values(by=\"tokenized_tokens_length\", ascending=True).reset_index(drop=True)\n",
    "test_df = test_df.sort_values(by=\"tokenized_tokens_length\", ascending=True).reset_index(drop=True)\n",
    "test_df.reset_index(inplace=True)\n",
    "train_df.shape, test_df.shape"
   ]
  },
  {
   "cell_type": "code",
   "execution_count": 10,
   "id": "3df9c584",
   "metadata": {
    "execution": {
     "iopub.execute_input": "2024-09-11T16:28:38.351799Z",
     "iopub.status.busy": "2024-09-11T16:28:38.351455Z",
     "iopub.status.idle": "2024-09-11T16:28:38.363715Z",
     "shell.execute_reply": "2024-09-11T16:28:38.362882Z"
    },
    "papermill": {
     "duration": 0.0251,
     "end_time": "2024-09-11T16:28:38.365681",
     "exception": false,
     "start_time": "2024-09-11T16:28:38.340581",
     "status": "completed"
    },
    "tags": []
   },
   "outputs": [],
   "source": [
    "def prepare_input(row, tokenizer):\n",
    "    processed_text_tokens_list = []\n",
    "    char_map = []\n",
    "    label_char_map = {}\n",
    "\n",
    "    for index in range(len(row[\"tokens\"])):\n",
    "        token = unidecode(row[\"tokens\"][index])\n",
    "\n",
    "        whitespace = row[\"trailing_whitespace\"][index]\n",
    "        label = row[\"labels\"][index]\n",
    "\n",
    "        processed_text_tokens_list.append(token)\n",
    "        char_map.extend([index] * len(token))\n",
    "\n",
    "        label_char_map[index] = label\n",
    "\n",
    "        if whitespace:\n",
    "            processed_text_tokens_list.append(\" \")\n",
    "            char_map.append(-1)\n",
    "\n",
    "    # Now, we tokenize the concatenated 'text' and return offsets mappings along with 'char_map'.\n",
    "    processed_text = \"\".join(processed_text_tokens_list)\n",
    "    tokenized = tokenizer(\n",
    "        processed_text,\n",
    "        return_offsets_mapping=True,\n",
    "        truncation=True,\n",
    "        max_length=Config.max_length,\n",
    "    )\n",
    "\n",
    "    length = len(tokenized.input_ids)\n",
    "\n",
    "    tokenized_info = {\n",
    "        **tokenized,\n",
    "        \"processed_text\": processed_text,\n",
    "        \"length\": length,\n",
    "        \"char_map\": char_map,  # Now includes mapping to original tokens\n",
    "        \"label_char_map\": label_char_map,\n",
    "    }\n",
    "    return tokenized_info\n",
    "\n",
    "\n",
    "def get_labels(tokenized_info):\n",
    "    label_list = []\n",
    "    offset_map = tokenized_info[\"offset_mapping\"]\n",
    "    for index, offset_map_item in enumerate(offset_map):\n",
    "        if offset_map_item == (0, 0):\n",
    "            label_list.extend([\"Start_End\"])\n",
    "            continue\n",
    "\n",
    "        char_map_item = tokenized_info[\"char_map\"][\n",
    "            offset_map_item[0] : offset_map_item[1]\n",
    "        ]\n",
    "        char_map_item_filtered = [element for element in char_map_item if element != -1]\n",
    "\n",
    "        label_item = set(\n",
    "            [\n",
    "                tokenized_info[\"label_char_map\"][element]\n",
    "                for element in char_map_item_filtered\n",
    "            ]\n",
    "        )\n",
    "\n",
    "        if len(label_item) != 1:\n",
    "            if tokenized_info[\"input_ids\"][index] in [507]:\n",
    "                label_item = \"O\"\n",
    "\n",
    "            else:\n",
    "                raise Exception(\n",
    "                    \"\\n\"\n",
    "                    f\"Token ID: {tokenized_info['input_ids'][index]}\\n\"\n",
    "                    f\"Token: {tokenizer.decode(tokenized_info['input_ids'][index])}\\n\"\n",
    "                    f\"Offset: {offset_map_item}\\n\"\n",
    "                    f\"Text: {tokenized_info['processed_text'][ offset_map_item[0] : offset_map_item[1] ]}\\n\"\n",
    "                    f\"Character Map: {char_map_item}\\n\"\n",
    "                    f\"Filtered Character Map {char_map_item_filtered}\\n\"\n",
    "                    f\"Labels: {label_item}\"\n",
    "                )\n",
    "\n",
    "        label_list.extend(list(label_item))\n",
    "\n",
    "    if len(label_list) != len(tokenized_info[\"input_ids\"]):\n",
    "        raise Exception(\"Error: Size of label_list and input_ids are not same.\")\n",
    "    return label_list"
   ]
  },
  {
   "cell_type": "code",
   "execution_count": 11,
   "id": "a5a0f63e",
   "metadata": {
    "execution": {
     "iopub.execute_input": "2024-09-11T16:28:38.386659Z",
     "iopub.status.busy": "2024-09-11T16:28:38.386398Z",
     "iopub.status.idle": "2024-09-11T16:30:05.576969Z",
     "shell.execute_reply": "2024-09-11T16:30:05.575643Z"
    },
    "papermill": {
     "duration": 87.204062,
     "end_time": "2024-09-11T16:30:05.579634",
     "exception": false,
     "start_time": "2024-09-11T16:28:38.375572",
     "status": "completed"
    },
    "tags": []
   },
   "outputs": [
    {
     "name": "stderr",
     "output_type": "stream",
     "text": [
      "100%|██████████| 5445/5445 [01:27<00:00, 62.46it/s]"
     ]
    },
    {
     "name": "stdout",
     "output_type": "stream",
     "text": [
      "Awesome - Everything is fine\n"
     ]
    },
    {
     "name": "stderr",
     "output_type": "stream",
     "text": [
      "\n"
     ]
    }
   ],
   "source": [
    "# Check - Test - Dataset\n",
    "for index in tqdm(train_df.index):\n",
    "    tokenized_info = prepare_input(train_df.iloc[index], tokenizer)\n",
    "    label_item = get_labels(tokenized_info)\n",
    "\n",
    "print(\"Awesome - Everything is fine\")"
   ]
  },
  {
   "cell_type": "code",
   "execution_count": 12,
   "id": "77c19f24",
   "metadata": {
    "execution": {
     "iopub.execute_input": "2024-09-11T16:30:05.720256Z",
     "iopub.status.busy": "2024-09-11T16:30:05.719467Z",
     "iopub.status.idle": "2024-09-11T16:30:05.729416Z",
     "shell.execute_reply": "2024-09-11T16:30:05.728564Z"
    },
    "papermill": {
     "duration": 0.081729,
     "end_time": "2024-09-11T16:30:05.731427",
     "exception": false,
     "start_time": "2024-09-11T16:30:05.649698",
     "status": "completed"
    },
    "tags": []
   },
   "outputs": [],
   "source": [
    "class PII_Dataset(Dataset):\n",
    "    def __init__(self, tokenizer, df):\n",
    "        self.tokenizer = tokenizer\n",
    "        self.df = df\n",
    "\n",
    "    def __len__(self):\n",
    "        return len(self.df)\n",
    "\n",
    "    def __getitem__(self, index):\n",
    "        row = self.df.iloc[index].to_dict()\n",
    "        row.pop(\"tokenized_tokens_length\")\n",
    "\n",
    "        tokenized_info = prepare_input(self.df.iloc[index], tokenizer)\n",
    "        label_item = get_labels(tokenized_info)\n",
    "        tokenized_info[\"document_id\"] = row.pop(\"document\")\n",
    "        tokenized_info[\"labels\"] = label_item\n",
    "        tokenized_info[\"label_ids\"] = [\n",
    "            0 if item == \"Start_End\" else Config.label2id[item] for item in label_item\n",
    "        ]\n",
    "\n",
    "        if len(tokenized_info[\"label_ids\"]) != len(tokenized_info[\"input_ids\"]):\n",
    "            raise Exception(\n",
    "                f\"Error in tokenized_info - length of lavel_ids and input_ids are not same: {tokenized_info}\"\n",
    "            )\n",
    "        return tokenized_info"
   ]
  },
  {
   "cell_type": "code",
   "execution_count": 13,
   "id": "f965db79",
   "metadata": {
    "execution": {
     "iopub.execute_input": "2024-09-11T16:30:05.870591Z",
     "iopub.status.busy": "2024-09-11T16:30:05.870272Z",
     "iopub.status.idle": "2024-09-11T16:30:05.880372Z",
     "shell.execute_reply": "2024-09-11T16:30:05.879436Z"
    },
    "papermill": {
     "duration": 0.081948,
     "end_time": "2024-09-11T16:30:05.882090",
     "exception": false,
     "start_time": "2024-09-11T16:30:05.800142",
     "status": "completed"
    },
    "tags": []
   },
   "outputs": [],
   "source": [
    "class Collate:\n",
    "    def __init__(self, tokenizer):\n",
    "        self.tokenizer = tokenizer\n",
    "\n",
    "    def __call__(self, batch):\n",
    "        # List of keys to extract from each sample\n",
    "        keys = [\n",
    "            \"document_id\",\n",
    "            \"input_ids\",\n",
    "            \"token_type_ids\",\n",
    "            \"attention_mask\",\n",
    "#             \"offset_mapping\",\n",
    "#             \"processed_text\",\n",
    "#             \"length\",\n",
    "#             \"char_map\",\n",
    "#             \"label_char_map\",\n",
    "#             \"labels\",\n",
    "            \"label_ids\",\n",
    "        ]\n",
    "\n",
    "        # Populate the output dictionary using a loop\n",
    "        output = {key: [sample[key] for sample in batch] for key in keys}\n",
    "\n",
    "        batch_max = max([len(ids) for ids in output[\"input_ids\"]])\n",
    "\n",
    "        # Add padding\n",
    "        if self.tokenizer.padding_side == \"right\":\n",
    "            output[\"input_ids\"] = [\n",
    "                list(s) + (batch_max - len(s)) * [self.tokenizer.pad_token_id]\n",
    "                for s in output[\"input_ids\"]\n",
    "            ]\n",
    "            output[\"attention_mask\"] = [\n",
    "                list(s) + (batch_max - len(s)) * [0] for s in output[\"attention_mask\"]\n",
    "            ]\n",
    "            output[\"token_type_ids\"] = [\n",
    "                list(s) + (batch_max - len(s)) * [0] for s in output[\"token_type_ids\"]\n",
    "            ]\n",
    "#             output[\"offset_mapping\"] = [\n",
    "#                 list(s) + (batch_max - len(s)) * [(0, 0)]\n",
    "#                 for s in output[\"offset_mapping\"]\n",
    "#             ]\n",
    "            output[\"label_ids\"] = [\n",
    "                list(s) + (batch_max - len(s)) * [0] for s in output[\"label_ids\"]\n",
    "            ]\n",
    "\n",
    "        # Convert to tensors and move to the specified device\n",
    "        keys = [\"document_id\", \"input_ids\", \"attention_mask\", \"token_type_ids\", \"label_ids\"]\n",
    "        for key in keys:\n",
    "            output[key] = torch.tensor(output[key], dtype=torch.long) # .to(Config.torch_device[0])\n",
    "\n",
    "        return output"
   ]
  },
  {
   "cell_type": "code",
   "execution_count": 14,
   "id": "768ba63a",
   "metadata": {
    "execution": {
     "iopub.execute_input": "2024-09-11T16:30:06.020206Z",
     "iopub.status.busy": "2024-09-11T16:30:06.019916Z",
     "iopub.status.idle": "2024-09-11T16:30:06.024895Z",
     "shell.execute_reply": "2024-09-11T16:30:06.023994Z"
    },
    "papermill": {
     "duration": 0.076104,
     "end_time": "2024-09-11T16:30:06.026792",
     "exception": false,
     "start_time": "2024-09-11T16:30:05.950688",
     "status": "completed"
    },
    "tags": []
   },
   "outputs": [],
   "source": [
    "train_dataset = PII_Dataset(tokenizer, df=train_df)\n",
    "\n",
    "train_loader = DataLoader(\n",
    "    train_dataset,\n",
    "    batch_size=Config.batch_size,\n",
    "    shuffle=True,\n",
    "    collate_fn=Collate(tokenizer),\n",
    "    # num_workers=Config.num_workers,\n",
    "    pin_memory=True,\n",
    "    drop_last=False,\n",
    ")"
   ]
  },
  {
   "cell_type": "code",
   "execution_count": 15,
   "id": "1ef66a6e",
   "metadata": {
    "execution": {
     "iopub.execute_input": "2024-09-11T16:30:06.170123Z",
     "iopub.status.busy": "2024-09-11T16:30:06.169739Z",
     "iopub.status.idle": "2024-09-11T16:31:38.544544Z",
     "shell.execute_reply": "2024-09-11T16:31:38.543473Z"
    },
    "papermill": {
     "duration": 92.448585,
     "end_time": "2024-09-11T16:31:38.546477",
     "exception": false,
     "start_time": "2024-09-11T16:30:06.097892",
     "status": "completed"
    },
    "tags": []
   },
   "outputs": [
    {
     "name": "stderr",
     "output_type": "stream",
     "text": [
      "100%|██████████| 1362/1362 [01:32<00:00, 14.75it/s]\n"
     ]
    },
    {
     "data": {
      "text/plain": [
       "dict_keys(['document_id', 'input_ids', 'token_type_ids', 'attention_mask', 'label_ids'])"
      ]
     },
     "execution_count": 15,
     "metadata": {},
     "output_type": "execute_result"
    }
   ],
   "source": [
    "# Checking data loader\n",
    "for item in tqdm(train_loader):\n",
    "    if len(item[\"input_ids\"]) != len(item[\"label_ids\"]):\n",
    "        raise Exception(\n",
    "            \"Error: length of input_ids and label_ids after padding are not same.\"\n",
    "        )\n",
    "    pass\n",
    "\n",
    "item.keys()"
   ]
  },
  {
   "cell_type": "code",
   "execution_count": 16,
   "id": "562dc944",
   "metadata": {
    "execution": {
     "iopub.execute_input": "2024-09-11T16:31:38.789030Z",
     "iopub.status.busy": "2024-09-11T16:31:38.788347Z",
     "iopub.status.idle": "2024-09-11T16:31:38.799822Z",
     "shell.execute_reply": "2024-09-11T16:31:38.798926Z"
    },
    "papermill": {
     "duration": 0.134243,
     "end_time": "2024-09-11T16:31:38.801671",
     "exception": false,
     "start_time": "2024-09-11T16:31:38.667428",
     "status": "completed"
    },
    "tags": []
   },
   "outputs": [],
   "source": [
    "class PIIDetectionModel(torch.nn.Module):\n",
    "    def __init__(self):\n",
    "        super().__init__()\n",
    "        self.num_labels = Config.model_architecture_config.num_labels\n",
    "\n",
    "        self.model = AutoModel.from_pretrained(\n",
    "            Config.model_id,\n",
    "            ignore_mismatched_sizes=True,\n",
    "            config=Config.model_architecture_config,\n",
    "            # torch_dtype = \"auto\"\n",
    "        )\n",
    "        self.model.gradient_checkpointing_enable()\n",
    "        self.model.resize_token_embeddings(len(tokenizer))\n",
    "        self.dropout = torch.nn.Dropout(\n",
    "            Config.model_architecture_config.hidden_dropout_prob\n",
    "        )\n",
    "\n",
    "        self.bilstm = torch.nn.LSTM(\n",
    "            Config.model_architecture_config.hidden_size,\n",
    "            (Config.model_architecture_config.hidden_size) // 2,\n",
    "            num_layers=2,\n",
    "            dropout=Config.model_architecture_config.hidden_dropout_prob,\n",
    "            batch_first=True,\n",
    "            bidirectional=True,\n",
    "        )\n",
    "\n",
    "        self.gru = torch.nn.GRU(\n",
    "            Config.model_architecture_config.hidden_size,\n",
    "            Config.model_architecture_config.hidden_size // 2,\n",
    "            num_layers=2,\n",
    "            dropout=Config.model_architecture_config.hidden_dropout_prob,\n",
    "            batch_first=True,\n",
    "            bidirectional=True,\n",
    "        )\n",
    "        \n",
    "        self.lstm_gru_balance_weight = torch.nn.Parameter(\n",
    "            torch.tensor(0.5), requires_grad=False\n",
    "        )\n",
    "\n",
    "        self.fc = torch.nn.Linear(\n",
    "            Config.model_architecture_config.hidden_size, Config.num_labels\n",
    "        )\n",
    "\n",
    "    def forward(self, input_ids, attention_mask, token_type_ids):\n",
    "        output = self.model(\n",
    "            input_ids=input_ids,\n",
    "            attention_mask=attention_mask,\n",
    "            token_type_ids=token_type_ids,\n",
    "        )  # returns ['last_hidden_state', 'hidden_states']\n",
    "        sequence_output = output[0]\n",
    "        sequence_output = self.dropout(sequence_output)\n",
    "        lstm_output, hc = self.bilstm(sequence_output)\n",
    "        gru_output, _ = self.gru(sequence_output)\n",
    "\n",
    "        rnn_output = (\n",
    "            self.lstm_gru_balance_weight * lstm_output\n",
    "            + (1 - self.lstm_gru_balance_weight) * gru_output\n",
    "        )\n",
    "        logits = self.fc(rnn_output)\n",
    "        return logits"
   ]
  },
  {
   "cell_type": "code",
   "execution_count": 17,
   "id": "680e7eca",
   "metadata": {
    "execution": {
     "iopub.execute_input": "2024-09-11T16:31:39.044661Z",
     "iopub.status.busy": "2024-09-11T16:31:39.044288Z",
     "iopub.status.idle": "2024-09-11T16:31:39.050909Z",
     "shell.execute_reply": "2024-09-11T16:31:39.050030Z"
    },
    "papermill": {
     "duration": 0.130332,
     "end_time": "2024-09-11T16:31:39.052739",
     "exception": false,
     "start_time": "2024-09-11T16:31:38.922407",
     "status": "completed"
    },
    "tags": []
   },
   "outputs": [],
   "source": [
    "def convert_logits_to_labels(logits: torch.Tensor) -> torch.Tensor:\n",
    "    \"\"\"\n",
    "    Convert logits into predicted labels for token classification.\n",
    "    \"\"\"\n",
    "    probabilities = torch.softmax(logits, dim=-1)\n",
    "    predicted_labels = torch.argmax(probabilities, dim=-1)\n",
    "    return predicted_labels\n",
    "\n",
    "\n",
    "def calculate_loss(logits: torch.Tensor, labels: torch.Tensor) -> torch.Tensor:\n",
    "    # TODO: Loss function excluding CLS, Start and End tokens: https://chatgpt.com/c/66dbbd83-4930-8007-b247-0d73fc2ee9af\n",
    "    \"\"\"\n",
    "    Calculate the cross-entropy loss for token classification using raw logits.\n",
    "    \"\"\"\n",
    "    loss_fn = torch.nn.CrossEntropyLoss()\n",
    "    loss = loss_fn(logits.view(-1, logits.size(-1)), labels.view(-1))\n",
    "    return loss\n"
   ]
  },
  {
   "cell_type": "code",
   "execution_count": 18,
   "id": "80a5df12",
   "metadata": {
    "execution": {
     "iopub.execute_input": "2024-09-11T16:31:39.295459Z",
     "iopub.status.busy": "2024-09-11T16:31:39.295082Z",
     "iopub.status.idle": "2024-09-11T16:31:46.764128Z",
     "shell.execute_reply": "2024-09-11T16:31:46.763170Z"
    },
    "papermill": {
     "duration": 7.5932,
     "end_time": "2024-09-11T16:31:46.766309",
     "exception": false,
     "start_time": "2024-09-11T16:31:39.173109",
     "status": "completed"
    },
    "tags": []
   },
   "outputs": [
    {
     "data": {
      "application/vnd.jupyter.widget-view+json": {
       "model_id": "ce4deba81f164301997df404fa696065",
       "version_major": 2,
       "version_minor": 0
      },
      "text/plain": [
       "pytorch_model.bin:   0%|          | 0.00/371M [00:00<?, ?B/s]"
      ]
     },
     "metadata": {},
     "output_type": "display_data"
    },
    {
     "data": {
      "text/plain": [
       "PIIDetectionModel(\n",
       "  (model): DebertaV2Model(\n",
       "    (embeddings): DebertaV2Embeddings(\n",
       "      (word_embeddings): Embedding(128001, 768, padding_idx=0)\n",
       "      (LayerNorm): LayerNorm((768,), eps=1e-07, elementwise_affine=True)\n",
       "      (dropout): StableDropout()\n",
       "    )\n",
       "    (encoder): DebertaV2Encoder(\n",
       "      (layer): ModuleList(\n",
       "        (0-11): 12 x DebertaV2Layer(\n",
       "          (attention): DebertaV2Attention(\n",
       "            (self): DisentangledSelfAttention(\n",
       "              (query_proj): Linear(in_features=768, out_features=768, bias=True)\n",
       "              (key_proj): Linear(in_features=768, out_features=768, bias=True)\n",
       "              (value_proj): Linear(in_features=768, out_features=768, bias=True)\n",
       "              (pos_dropout): StableDropout()\n",
       "              (dropout): StableDropout()\n",
       "            )\n",
       "            (output): DebertaV2SelfOutput(\n",
       "              (dense): Linear(in_features=768, out_features=768, bias=True)\n",
       "              (LayerNorm): LayerNorm((768,), eps=1e-07, elementwise_affine=True)\n",
       "              (dropout): StableDropout()\n",
       "            )\n",
       "          )\n",
       "          (intermediate): DebertaV2Intermediate(\n",
       "            (dense): Linear(in_features=768, out_features=3072, bias=True)\n",
       "            (intermediate_act_fn): GELUActivation()\n",
       "          )\n",
       "          (output): DebertaV2Output(\n",
       "            (dense): Linear(in_features=3072, out_features=768, bias=True)\n",
       "            (LayerNorm): LayerNorm((768,), eps=1e-07, elementwise_affine=True)\n",
       "            (dropout): StableDropout()\n",
       "          )\n",
       "        )\n",
       "      )\n",
       "      (rel_embeddings): Embedding(512, 768)\n",
       "      (LayerNorm): LayerNorm((768,), eps=1e-07, elementwise_affine=True)\n",
       "    )\n",
       "  )\n",
       "  (dropout): Dropout(p=0.1, inplace=False)\n",
       "  (bilstm): LSTM(768, 384, num_layers=2, batch_first=True, dropout=0.1, bidirectional=True)\n",
       "  (gru): GRU(768, 384, num_layers=2, batch_first=True, dropout=0.1, bidirectional=True)\n",
       "  (fc): Linear(in_features=768, out_features=13, bias=True)\n",
       ")"
      ]
     },
     "execution_count": 18,
     "metadata": {},
     "output_type": "execute_result"
    }
   ],
   "source": [
    "model = PIIDetectionModel().to(Config.torch_device[0])\n",
    "model"
   ]
  },
  {
   "cell_type": "code",
   "execution_count": 19,
   "id": "bc0a1f80",
   "metadata": {
    "execution": {
     "iopub.execute_input": "2024-09-11T16:31:47.010151Z",
     "iopub.status.busy": "2024-09-11T16:31:47.009306Z",
     "iopub.status.idle": "2024-09-11T16:31:47.016409Z",
     "shell.execute_reply": "2024-09-11T16:31:47.015555Z"
    },
    "papermill": {
     "duration": 0.130133,
     "end_time": "2024-09-11T16:31:47.018217",
     "exception": false,
     "start_time": "2024-09-11T16:31:46.888084",
     "status": "completed"
    },
    "tags": []
   },
   "outputs": [],
   "source": [
    "import torch\n",
    "import torch.nn as nn\n",
    "\n",
    "def count_trainable_parameters(model: nn.Module) -> int:\n",
    "    \"\"\"\n",
    "    Count the number of trainable parameters in a PyTorch model.\n",
    "    \"\"\"\n",
    "    return sum(p.numel() for p in model.parameters() if p.requires_grad)\n",
    "\n",
    "def estimate_parameter_memory(model: nn.Module, dtype=torch.float32) -> float:\n",
    "    \"\"\"\n",
    "    Estimate the memory required to store the parameters of a PyTorch model. The estimated memory in megabytes (MB).\n",
    "    \"\"\"\n",
    "    num_params = count_trainable_parameters(model)\n",
    "    \n",
    "    # Memory per element in bytes, e.g., 4 bytes for float32, 2 bytes for float16\n",
    "    bytes_per_element = torch.finfo(dtype).bits // 8\n",
    "    \n",
    "    # Total memory in bytes\n",
    "    total_memory_bytes = num_params * bytes_per_element\n",
    "    \n",
    "    # Convert to megabytes (MB)\n",
    "    total_memory_mb = total_memory_bytes / (1024 ** 2)\n",
    "    \n",
    "    return num_params, total_memory_mb"
   ]
  },
  {
   "cell_type": "code",
   "execution_count": 20,
   "id": "fd4f4a4c",
   "metadata": {
    "execution": {
     "iopub.execute_input": "2024-09-11T16:31:47.262482Z",
     "iopub.status.busy": "2024-09-11T16:31:47.262134Z",
     "iopub.status.idle": "2024-09-11T16:31:47.270503Z",
     "shell.execute_reply": "2024-09-11T16:31:47.269619Z"
    },
    "papermill": {
     "duration": 0.134783,
     "end_time": "2024-09-11T16:31:47.272533",
     "exception": false,
     "start_time": "2024-09-11T16:31:47.137750",
     "status": "completed"
    },
    "tags": []
   },
   "outputs": [
    {
     "name": "stdout",
     "output_type": "stream",
     "text": [
      "Number of trainable parameters in GRU: 183755520\n",
      "Estimated memory for GRU parameters: 700.972 MB\n",
      "\n",
      "Number of trainable parameters in GRU: 7090176\n",
      "Estimated memory for GRU parameters: 27.047 MB\n",
      "\n",
      "Number of trainable parameters in GRU: 5317632\n",
      "Estimated memory for GRU parameters: 20.285 MB\n",
      "\n",
      "Number of trainable parameters in GRU: 9997\n",
      "Estimated memory for GRU parameters: 0.038 MB\n",
      "\n"
     ]
    }
   ],
   "source": [
    "num_params, total_memory_mb = estimate_parameter_memory(model.model)\n",
    "print(f\"Number of trainable parameters in GRU: {num_params}\")\n",
    "print(f\"Estimated memory for GRU parameters: {total_memory_mb:.3f} MB\\n\")\n",
    "\n",
    "\n",
    "num_params, total_memory_mb = estimate_parameter_memory(model.bilstm)\n",
    "print(f\"Number of trainable parameters in GRU: {num_params}\")\n",
    "print(f\"Estimated memory for GRU parameters: {total_memory_mb:.3f} MB\\n\")\n",
    "\n",
    "\n",
    "num_params, total_memory_mb = estimate_parameter_memory(model.gru)\n",
    "print(f\"Number of trainable parameters in GRU: {num_params}\")\n",
    "print(f\"Estimated memory for GRU parameters: {total_memory_mb:.3f} MB\\n\")\n",
    "\n",
    "\n",
    "num_params, total_memory_mb = estimate_parameter_memory(model.fc)\n",
    "print(f\"Number of trainable parameters in GRU: {num_params}\")\n",
    "print(f\"Estimated memory for GRU parameters: {total_memory_mb:.3f} MB\\n\")"
   ]
  },
  {
   "cell_type": "code",
   "execution_count": 21,
   "id": "1469bbeb",
   "metadata": {
    "_kg_hide-input": true,
    "_kg_hide-output": true,
    "execution": {
     "iopub.execute_input": "2024-09-11T16:31:47.515172Z",
     "iopub.status.busy": "2024-09-11T16:31:47.514821Z",
     "iopub.status.idle": "2024-09-11T16:31:47.519388Z",
     "shell.execute_reply": "2024-09-11T16:31:47.518523Z"
    },
    "papermill": {
     "duration": 0.128371,
     "end_time": "2024-09-11T16:31:47.521182",
     "exception": false,
     "start_time": "2024-09-11T16:31:47.392811",
     "status": "completed"
    },
    "tags": []
   },
   "outputs": [],
   "source": [
    "# # Checking data loader\n",
    "# for item in tqdm(train_loader):\n",
    "#     break\n",
    "\n",
    "\n",
    "# # Chechking models forward pass\n",
    "# model_output = model.forward(\n",
    "#     input_ids=item[\"input_ids\"].to(Config.torch_device[0]),\n",
    "#     attention_mask=item[\"attention_mask\"].to(Config.torch_device[0]),\n",
    "#     token_type_ids=item[\"token_type_ids\"].to(Config.torch_device[0]),\n",
    "# )\n",
    "\n",
    "# # from torchviz import make_dot\n",
    "# # make_dot(model_output.last_hidden_state.mean(), params=dict(custom_model.named_parameters()))\n",
    "\n",
    "\n",
    "# print(\n",
    "#     \"logits_shape: \",\n",
    "#     model_output.shape,\n",
    "#     \"\\ninput_ids_shape:\",\n",
    "#     item[\"input_ids\"].shape,\n",
    "#     \"\\noutput_labels_shape: \",\n",
    "#     item[\"label_ids\"].shape,\n",
    "# )\n",
    "\n",
    "# # Checking loss function\n",
    "# loss, predicted_labels = calculate_loss(logits=model_output, labels=item[\"label_ids\"].to(Config.torch_device[0]))\n",
    "# loss"
   ]
  },
  {
   "cell_type": "code",
   "execution_count": 22,
   "id": "775b1b53",
   "metadata": {
    "execution": {
     "iopub.execute_input": "2024-09-11T16:31:47.762500Z",
     "iopub.status.busy": "2024-09-11T16:31:47.762156Z",
     "iopub.status.idle": "2024-09-12T01:27:43.728213Z",
     "shell.execute_reply": "2024-09-12T01:27:43.727072Z"
    },
    "papermill": {
     "duration": 32156.089497,
     "end_time": "2024-09-12T01:27:43.731897",
     "exception": false,
     "start_time": "2024-09-11T16:31:47.642400",
     "status": "completed"
    },
    "tags": []
   },
   "outputs": [
    {
     "name": "stdout",
     "output_type": "stream",
     "text": [
      "\n",
      "Epoch 1/10\n"
     ]
    },
    {
     "name": "stderr",
     "output_type": "stream",
     "text": [
      "Training:   0%|          | 0/1362 [00:00<?, ?it/s]/opt/conda/lib/python3.10/site-packages/torch/utils/checkpoint.py:295: FutureWarning:\n",
      "\n",
      "`torch.cpu.amp.autocast(args...)` is deprecated. Please use `torch.amp.autocast('cpu', args...)` instead.\n",
      "\n",
      "                                                                          \r"
     ]
    },
    {
     "name": "stdout",
     "output_type": "stream",
     "text": [
      "Epoch 1/10, Training Loss: 0.0137\n",
      "\n",
      "Epoch 2/10\n"
     ]
    },
    {
     "name": "stderr",
     "output_type": "stream",
     "text": [
      "                                                                          \r"
     ]
    },
    {
     "name": "stdout",
     "output_type": "stream",
     "text": [
      "Epoch 2/10, Training Loss: 0.0062\n",
      "\n",
      "Epoch 3/10\n"
     ]
    },
    {
     "name": "stderr",
     "output_type": "stream",
     "text": [
      "                                                                          \r"
     ]
    },
    {
     "name": "stdout",
     "output_type": "stream",
     "text": [
      "Epoch 3/10, Training Loss: 0.0062\n",
      "\n",
      "Epoch 4/10\n"
     ]
    },
    {
     "name": "stderr",
     "output_type": "stream",
     "text": [
      "                                                                          \r"
     ]
    },
    {
     "name": "stdout",
     "output_type": "stream",
     "text": [
      "Epoch 4/10, Training Loss: 0.0061\n",
      "\n",
      "Epoch 5/10\n"
     ]
    },
    {
     "name": "stderr",
     "output_type": "stream",
     "text": [
      "                                                                          \r"
     ]
    },
    {
     "name": "stdout",
     "output_type": "stream",
     "text": [
      "Epoch 5/10, Training Loss: 0.0063\n",
      "\n",
      "Epoch 6/10\n"
     ]
    },
    {
     "name": "stderr",
     "output_type": "stream",
     "text": [
      "                                                                          \r"
     ]
    },
    {
     "name": "stdout",
     "output_type": "stream",
     "text": [
      "Epoch 6/10, Training Loss: 0.0061\n",
      "\n",
      "Epoch 7/10\n"
     ]
    },
    {
     "name": "stderr",
     "output_type": "stream",
     "text": [
      "                                                                          \r"
     ]
    },
    {
     "name": "stdout",
     "output_type": "stream",
     "text": [
      "Epoch 7/10, Training Loss: 0.0062\n",
      "\n",
      "Epoch 8/10\n"
     ]
    },
    {
     "name": "stderr",
     "output_type": "stream",
     "text": [
      "                                                                          \r"
     ]
    },
    {
     "name": "stdout",
     "output_type": "stream",
     "text": [
      "Epoch 8/10, Training Loss: 0.0062\n",
      "\n",
      "Epoch 9/10\n"
     ]
    },
    {
     "name": "stderr",
     "output_type": "stream",
     "text": [
      "                                                                          \r"
     ]
    },
    {
     "name": "stdout",
     "output_type": "stream",
     "text": [
      "Epoch 9/10, Training Loss: 0.0061\n",
      "\n",
      "Epoch 10/10\n"
     ]
    },
    {
     "name": "stderr",
     "output_type": "stream",
     "text": [
      "                                                                          "
     ]
    },
    {
     "name": "stdout",
     "output_type": "stream",
     "text": [
      "Epoch 10/10, Training Loss: 0.0060\n"
     ]
    },
    {
     "name": "stderr",
     "output_type": "stream",
     "text": [
      "\r"
     ]
    }
   ],
   "source": [
    "scaler = torch.GradScaler()\n",
    "optimizer = optim.Adam(model.parameters(), lr=Config.learning_rate)\n",
    "\n",
    "for epoch in range(Config.epochs):\n",
    "    model.train()\n",
    "    total_loss = 0\n",
    "\n",
    "    print(f\"\\nEpoch {epoch + 1}/{Config.epochs}\")\n",
    "    progress_bar = tqdm(train_loader, desc=\"Training\", leave=False)\n",
    "\n",
    "    # Reset gradients at the start of the epoch\n",
    "    optimizer.zero_grad()\n",
    "\n",
    "    for step, batch in enumerate(progress_bar):\n",
    "        input_ids = batch[\"input_ids\"].to(Config.torch_device[0])\n",
    "        attention_mask = batch[\"attention_mask\"].to(Config.torch_device[0])\n",
    "        token_type_ids = batch[\"token_type_ids\"].to(Config.torch_device[0])\n",
    "        labels = batch[\"label_ids\"].to(Config.torch_device[0])\n",
    "\n",
    "        # print(f\"Token Length: {len(input_ids[0])}\")\n",
    "\n",
    "        with torch.amp.autocast(device_type=Config.torch_device[0].type):  # Mixed precision\n",
    "            logits = model(input_ids, attention_mask, token_type_ids)\n",
    "            loss = calculate_loss(logits=logits, labels=labels)\n",
    "            loss = loss / Config.accumulation_steps  # Normalize loss over accumulation steps\n",
    "\n",
    "        scaler.scale(loss).backward()  # Scale loss and accumulate gradients\n",
    "\n",
    "        # Step the optimizer every `accumulation_steps`\n",
    "        if (step + 1) % Config.accumulation_steps == 0 or (step + 1) == len(train_loader):\n",
    "            scaler.step(optimizer)  # Update model weights\n",
    "            scaler.update()  # Update the scaler for next batch\n",
    "            optimizer.zero_grad()  # Reset gradients after each update\n",
    "\n",
    "        # Detach inputs and labels to avoid memory accumulation\n",
    "        input_ids.detach()\n",
    "        attention_mask.detach()\n",
    "        token_type_ids.detach()\n",
    "        labels.detach()\n",
    "\n",
    "        total_loss += loss.item() * Config.accumulation_steps  # Accumulated loss for the batch\n",
    "        progress_bar.set_postfix({\"loss\": f\"{loss.item() * Config.accumulation_steps:.4f}\"})\n",
    "\n",
    "    avg_train_loss = total_loss / len(train_loader)\n",
    "    print(f\"Epoch {epoch + 1}/{Config.epochs}, Training Loss: {avg_train_loss:.4f}\")"
   ]
  },
  {
   "cell_type": "code",
   "execution_count": 23,
   "id": "b939e68a",
   "metadata": {
    "execution": {
     "iopub.execute_input": "2024-09-12T01:27:48.469077Z",
     "iopub.status.busy": "2024-09-12T01:27:48.468680Z",
     "iopub.status.idle": "2024-09-12T01:27:48.477951Z",
     "shell.execute_reply": "2024-09-12T01:27:48.477155Z"
    },
    "papermill": {
     "duration": 2.353608,
     "end_time": "2024-09-12T01:27:48.479890",
     "exception": false,
     "start_time": "2024-09-12T01:27:46.126282",
     "status": "completed"
    },
    "tags": []
   },
   "outputs": [],
   "source": [
    "def evaluate_model(model, dataloader, device):\n",
    "    model.eval()\n",
    "    total_eval_loss = 0\n",
    "    all_preds = []\n",
    "    all_labels = []\n",
    "    \n",
    "    progress_bar = tqdm(dataloader, desc=\"Evaluating\", leave=False)\n",
    "\n",
    "    with torch.no_grad():\n",
    "        for batch in progress_bar:\n",
    "            input_ids = batch[\"input_ids\"].to(device[0])\n",
    "            attention_mask = batch[\"attention_mask\"].to(device[0])\n",
    "            token_type_ids = batch[\"token_type_ids\"].to(device[0])\n",
    "            labels = batch[\"label_ids\"].to(device[0])\n",
    "\n",
    "            logits = model(input_ids, attention_mask, token_type_ids)\n",
    "            loss = calculate_loss(logits=logits, labels=labels)\n",
    "            total_eval_loss += loss.item()\n",
    "            \n",
    "            predicted_labels = convert_logits_to_labels(logits=logits)\n",
    "            all_preds.extend(predicted_labels.cpu().numpy().flatten())\n",
    "            all_labels.extend(labels.cpu().numpy().flatten())\n",
    "\n",
    "    avg_eval_loss = total_eval_loss / len(dataloader)\n",
    "    print(f\"Validation Loss: {avg_eval_loss:.4f}\")\n",
    "\n",
    "    print(\"Classification Report:\")\n",
    "    print(classification_report(all_labels, all_preds, zero_division=0))"
   ]
  },
  {
   "cell_type": "code",
   "execution_count": 24,
   "id": "e6ebf0fb",
   "metadata": {
    "execution": {
     "iopub.execute_input": "2024-09-12T01:27:53.117684Z",
     "iopub.status.busy": "2024-09-12T01:27:53.117264Z",
     "iopub.status.idle": "2024-09-12T01:44:40.638170Z",
     "shell.execute_reply": "2024-09-12T01:44:40.637100Z"
    },
    "papermill": {
     "duration": 1009.839162,
     "end_time": "2024-09-12T01:44:40.640281",
     "exception": false,
     "start_time": "2024-09-12T01:27:50.801119",
     "status": "completed"
    },
    "tags": []
   },
   "outputs": [
    {
     "name": "stderr",
     "output_type": "stream",
     "text": [
      "                                                               \r"
     ]
    },
    {
     "name": "stdout",
     "output_type": "stream",
     "text": [
      "Validation Loss: 0.0060\n",
      "Classification Report:\n",
      "              precision    recall  f1-score   support\n",
      "\n",
      "           0       1.00      1.00      1.00   6876310\n",
      "           1       0.00      0.00      0.00       238\n",
      "           2       0.00      0.00      0.00       270\n",
      "           3       0.00      0.00      0.00      1606\n",
      "           4       0.00      0.00      0.00         5\n",
      "           6       0.00      0.00      0.00      1397\n",
      "           7       0.00      0.00      0.00        15\n",
      "           8       0.00      0.00      0.00         3\n",
      "           9       0.00      0.00      0.00      1203\n",
      "          10       0.00      0.00      0.00        39\n",
      "          12       0.00      0.00      0.00         7\n",
      "\n",
      "    accuracy                           1.00   6881093\n",
      "   macro avg       0.09      0.09      0.09   6881093\n",
      "weighted avg       1.00      1.00      1.00   6881093\n",
      "\n"
     ]
    }
   ],
   "source": [
    "# Evaluate the model - train set\n",
    "evaluate_model(model, train_loader, device= Config.torch_device)"
   ]
  },
  {
   "cell_type": "code",
   "execution_count": 25,
   "id": "6f4297b3",
   "metadata": {
    "execution": {
     "iopub.execute_input": "2024-09-12T01:44:45.562256Z",
     "iopub.status.busy": "2024-09-12T01:44:45.561874Z",
     "iopub.status.idle": "2024-09-12T01:48:58.201478Z",
     "shell.execute_reply": "2024-09-12T01:48:58.200507Z"
    },
    "papermill": {
     "duration": 255.129067,
     "end_time": "2024-09-12T01:48:58.203634",
     "exception": false,
     "start_time": "2024-09-12T01:44:43.074567",
     "status": "completed"
    },
    "tags": []
   },
   "outputs": [
    {
     "name": "stderr",
     "output_type": "stream",
     "text": [
      "                                                             \r"
     ]
    },
    {
     "name": "stdout",
     "output_type": "stream",
     "text": [
      "Validation Loss: 0.0071\n",
      "Classification Report:\n",
      "              precision    recall  f1-score   support\n",
      "\n",
      "           0       1.00      1.00      1.00   1730547\n",
      "           1       0.00      0.00      0.00        27\n",
      "           2       0.00      0.00      0.00        93\n",
      "           3       0.00      0.00      0.00       461\n",
      "           4       0.00      0.00      0.00         6\n",
      "           5       0.00      0.00      0.00         2\n",
      "           6       0.00      0.00      0.00       480\n",
      "           7       0.00      0.00      0.00         6\n",
      "           9       0.00      0.00      0.00       252\n",
      "          11       0.00      0.00      0.00        28\n",
      "\n",
      "    accuracy                           1.00   1731902\n",
      "   macro avg       0.10      0.10      0.10   1731902\n",
      "weighted avg       1.00      1.00      1.00   1731902\n",
      "\n"
     ]
    }
   ],
   "source": [
    "test_dataset = PII_Dataset(tokenizer, df=test_df)\n",
    "\n",
    "test_loader = DataLoader(\n",
    "    test_dataset,\n",
    "    batch_size=Config.batch_size,\n",
    "    shuffle=True,\n",
    "    collate_fn=Collate(tokenizer),\n",
    "    # num_workers=Config.num_workers,\n",
    "    pin_memory=True,\n",
    "    drop_last=False,\n",
    ")\n",
    "\n",
    "# Evaluate the model - test set\n",
    "evaluate_model(model, test_loader, device= Config.torch_device)"
   ]
  },
  {
   "cell_type": "code",
   "execution_count": 26,
   "id": "34a931ff",
   "metadata": {
    "execution": {
     "iopub.execute_input": "2024-09-12T01:49:03.137523Z",
     "iopub.status.busy": "2024-09-12T01:49:03.137128Z",
     "iopub.status.idle": "2024-09-12T01:49:04.406545Z",
     "shell.execute_reply": "2024-09-12T01:49:04.405760Z"
    },
    "papermill": {
     "duration": 3.70653,
     "end_time": "2024-09-12T01:49:04.408914",
     "exception": false,
     "start_time": "2024-09-12T01:49:00.702384",
     "status": "completed"
    },
    "tags": []
   },
   "outputs": [],
   "source": [
    "torch.save(model.state_dict(), \"model_saved_state_dict\")"
   ]
  }
 ],
 "metadata": {
  "kaggle": {
   "accelerator": "gpu",
   "dataSources": [
    {
     "databundleVersionId": 7500999,
     "sourceId": 66653,
     "sourceType": "competition"
    }
   ],
   "isGpuEnabled": true,
   "isInternetEnabled": true,
   "language": "python",
   "sourceType": "notebook"
  },
  "kernelspec": {
   "display_name": "Python 3",
   "language": "python",
   "name": "python3"
  },
  "language_info": {
   "codemirror_mode": {
    "name": "ipython",
    "version": 3
   },
   "file_extension": ".py",
   "mimetype": "text/x-python",
   "name": "python",
   "nbconvert_exporter": "python",
   "pygments_lexer": "ipython3",
   "version": "3.10.14"
  },
  "papermill": {
   "default_parameters": {},
   "duration": 33675.543332,
   "end_time": "2024-09-12T01:49:08.980401",
   "environment_variables": {},
   "exception": null,
   "input_path": "__notebook__.ipynb",
   "output_path": "__notebook__.ipynb",
   "parameters": {},
   "start_time": "2024-09-11T16:27:53.437069",
   "version": "2.6.0"
  },
  "widgets": {
   "application/vnd.jupyter.widget-state+json": {
    "state": {
     "01fa4385433c44a1b7e8c2cdec3012b7": {
      "model_module": "@jupyter-widgets/controls",
      "model_module_version": "1.5.0",
      "model_name": "DescriptionStyleModel",
      "state": {
       "_model_module": "@jupyter-widgets/controls",
       "_model_module_version": "1.5.0",
       "_model_name": "DescriptionStyleModel",
       "_view_count": null,
       "_view_module": "@jupyter-widgets/base",
       "_view_module_version": "1.2.0",
       "_view_name": "StyleView",
       "description_width": ""
      }
     },
     "1d4f3eee65cc41149f4fe25f8806dddd": {
      "model_module": "@jupyter-widgets/controls",
      "model_module_version": "1.5.0",
      "model_name": "FloatProgressModel",
      "state": {
       "_dom_classes": [],
       "_model_module": "@jupyter-widgets/controls",
       "_model_module_version": "1.5.0",
       "_model_name": "FloatProgressModel",
       "_view_count": null,
       "_view_module": "@jupyter-widgets/controls",
       "_view_module_version": "1.5.0",
       "_view_name": "ProgressView",
       "bar_style": "success",
       "description": "",
       "description_tooltip": null,
       "layout": "IPY_MODEL_31cc2f2bf3da4e8d8f6479e5903d88d7",
       "max": 52.0,
       "min": 0.0,
       "orientation": "horizontal",
       "style": "IPY_MODEL_3b12ee40c7884d92aec9f47e48028044",
       "value": 52.0
      }
     },
     "1f75b25052514773ae73d81ce1510247": {
      "model_module": "@jupyter-widgets/controls",
      "model_module_version": "1.5.0",
      "model_name": "FloatProgressModel",
      "state": {
       "_dom_classes": [],
       "_model_module": "@jupyter-widgets/controls",
       "_model_module_version": "1.5.0",
       "_model_name": "FloatProgressModel",
       "_view_count": null,
       "_view_module": "@jupyter-widgets/controls",
       "_view_module_version": "1.5.0",
       "_view_name": "ProgressView",
       "bar_style": "success",
       "description": "",
       "description_tooltip": null,
       "layout": "IPY_MODEL_c8d4ca4bb697400eb31b311271b85abb",
       "max": 371146213.0,
       "min": 0.0,
       "orientation": "horizontal",
       "style": "IPY_MODEL_e88aca459a884b4e80e096c3306d534b",
       "value": 371146213.0
      }
     },
     "20abf506d8ee4b5bbbc29246c6b2bb34": {
      "model_module": "@jupyter-widgets/controls",
      "model_module_version": "1.5.0",
      "model_name": "HBoxModel",
      "state": {
       "_dom_classes": [],
       "_model_module": "@jupyter-widgets/controls",
       "_model_module_version": "1.5.0",
       "_model_name": "HBoxModel",
       "_view_count": null,
       "_view_module": "@jupyter-widgets/controls",
       "_view_module_version": "1.5.0",
       "_view_name": "HBoxView",
       "box_style": "",
       "children": [
        "IPY_MODEL_464823d364674515a9f4c4b5a27666e3",
        "IPY_MODEL_d301a91ec04f4c1a89c145cd6391e635",
        "IPY_MODEL_98c2d6339c5f4e5f8499448ab8175f57"
       ],
       "layout": "IPY_MODEL_55dd1af545d44f459c8c0531bb81cdfa"
      }
     },
     "31cc2f2bf3da4e8d8f6479e5903d88d7": {
      "model_module": "@jupyter-widgets/base",
      "model_module_version": "1.2.0",
      "model_name": "LayoutModel",
      "state": {
       "_model_module": "@jupyter-widgets/base",
       "_model_module_version": "1.2.0",
       "_model_name": "LayoutModel",
       "_view_count": null,
       "_view_module": "@jupyter-widgets/base",
       "_view_module_version": "1.2.0",
       "_view_name": "LayoutView",
       "align_content": null,
       "align_items": null,
       "align_self": null,
       "border": null,
       "bottom": null,
       "display": null,
       "flex": null,
       "flex_flow": null,
       "grid_area": null,
       "grid_auto_columns": null,
       "grid_auto_flow": null,
       "grid_auto_rows": null,
       "grid_column": null,
       "grid_gap": null,
       "grid_row": null,
       "grid_template_areas": null,
       "grid_template_columns": null,
       "grid_template_rows": null,
       "height": null,
       "justify_content": null,
       "justify_items": null,
       "left": null,
       "margin": null,
       "max_height": null,
       "max_width": null,
       "min_height": null,
       "min_width": null,
       "object_fit": null,
       "object_position": null,
       "order": null,
       "overflow": null,
       "overflow_x": null,
       "overflow_y": null,
       "padding": null,
       "right": null,
       "top": null,
       "visibility": null,
       "width": null
      }
     },
     "3453e0e304394af9bb636db32508457c": {
      "model_module": "@jupyter-widgets/controls",
      "model_module_version": "1.5.0",
      "model_name": "DescriptionStyleModel",
      "state": {
       "_model_module": "@jupyter-widgets/controls",
       "_model_module_version": "1.5.0",
       "_model_name": "DescriptionStyleModel",
       "_view_count": null,
       "_view_module": "@jupyter-widgets/base",
       "_view_module_version": "1.2.0",
       "_view_name": "StyleView",
       "description_width": ""
      }
     },
     "39e84e54505146e8a318547c644662af": {
      "model_module": "@jupyter-widgets/controls",
      "model_module_version": "1.5.0",
      "model_name": "ProgressStyleModel",
      "state": {
       "_model_module": "@jupyter-widgets/controls",
       "_model_module_version": "1.5.0",
       "_model_name": "ProgressStyleModel",
       "_view_count": null,
       "_view_module": "@jupyter-widgets/base",
       "_view_module_version": "1.2.0",
       "_view_name": "StyleView",
       "bar_color": null,
       "description_width": ""
      }
     },
     "3b12ee40c7884d92aec9f47e48028044": {
      "model_module": "@jupyter-widgets/controls",
      "model_module_version": "1.5.0",
      "model_name": "ProgressStyleModel",
      "state": {
       "_model_module": "@jupyter-widgets/controls",
       "_model_module_version": "1.5.0",
       "_model_name": "ProgressStyleModel",
       "_view_count": null,
       "_view_module": "@jupyter-widgets/base",
       "_view_module_version": "1.2.0",
       "_view_name": "StyleView",
       "bar_color": null,
       "description_width": ""
      }
     },
     "464823d364674515a9f4c4b5a27666e3": {
      "model_module": "@jupyter-widgets/controls",
      "model_module_version": "1.5.0",
      "model_name": "HTMLModel",
      "state": {
       "_dom_classes": [],
       "_model_module": "@jupyter-widgets/controls",
       "_model_module_version": "1.5.0",
       "_model_name": "HTMLModel",
       "_view_count": null,
       "_view_module": "@jupyter-widgets/controls",
       "_view_module_version": "1.5.0",
       "_view_name": "HTMLView",
       "description": "",
       "description_tooltip": null,
       "layout": "IPY_MODEL_8e7e7497a1cf404095f1256caf029133",
       "placeholder": "​",
       "style": "IPY_MODEL_01fa4385433c44a1b7e8c2cdec3012b7",
       "value": "spm.model: 100%"
      }
     },
     "5411872da9ba4282bd86da898f4a2d79": {
      "model_module": "@jupyter-widgets/base",
      "model_module_version": "1.2.0",
      "model_name": "LayoutModel",
      "state": {
       "_model_module": "@jupyter-widgets/base",
       "_model_module_version": "1.2.0",
       "_model_name": "LayoutModel",
       "_view_count": null,
       "_view_module": "@jupyter-widgets/base",
       "_view_module_version": "1.2.0",
       "_view_name": "LayoutView",
       "align_content": null,
       "align_items": null,
       "align_self": null,
       "border": null,
       "bottom": null,
       "display": null,
       "flex": null,
       "flex_flow": null,
       "grid_area": null,
       "grid_auto_columns": null,
       "grid_auto_flow": null,
       "grid_auto_rows": null,
       "grid_column": null,
       "grid_gap": null,
       "grid_row": null,
       "grid_template_areas": null,
       "grid_template_columns": null,
       "grid_template_rows": null,
       "height": null,
       "justify_content": null,
       "justify_items": null,
       "left": null,
       "margin": null,
       "max_height": null,
       "max_width": null,
       "min_height": null,
       "min_width": null,
       "object_fit": null,
       "object_position": null,
       "order": null,
       "overflow": null,
       "overflow_x": null,
       "overflow_y": null,
       "padding": null,
       "right": null,
       "top": null,
       "visibility": null,
       "width": null
      }
     },
     "55dd1af545d44f459c8c0531bb81cdfa": {
      "model_module": "@jupyter-widgets/base",
      "model_module_version": "1.2.0",
      "model_name": "LayoutModel",
      "state": {
       "_model_module": "@jupyter-widgets/base",
       "_model_module_version": "1.2.0",
       "_model_name": "LayoutModel",
       "_view_count": null,
       "_view_module": "@jupyter-widgets/base",
       "_view_module_version": "1.2.0",
       "_view_name": "LayoutView",
       "align_content": null,
       "align_items": null,
       "align_self": null,
       "border": null,
       "bottom": null,
       "display": null,
       "flex": null,
       "flex_flow": null,
       "grid_area": null,
       "grid_auto_columns": null,
       "grid_auto_flow": null,
       "grid_auto_rows": null,
       "grid_column": null,
       "grid_gap": null,
       "grid_row": null,
       "grid_template_areas": null,
       "grid_template_columns": null,
       "grid_template_rows": null,
       "height": null,
       "justify_content": null,
       "justify_items": null,
       "left": null,
       "margin": null,
       "max_height": null,
       "max_width": null,
       "min_height": null,
       "min_width": null,
       "object_fit": null,
       "object_position": null,
       "order": null,
       "overflow": null,
       "overflow_x": null,
       "overflow_y": null,
       "padding": null,
       "right": null,
       "top": null,
       "visibility": null,
       "width": null
      }
     },
     "5eb47a98f5954685ae19adeb5c09c1d3": {
      "model_module": "@jupyter-widgets/controls",
      "model_module_version": "1.5.0",
      "model_name": "HTMLModel",
      "state": {
       "_dom_classes": [],
       "_model_module": "@jupyter-widgets/controls",
       "_model_module_version": "1.5.0",
       "_model_name": "HTMLModel",
       "_view_count": null,
       "_view_module": "@jupyter-widgets/controls",
       "_view_module_version": "1.5.0",
       "_view_name": "HTMLView",
       "description": "",
       "description_tooltip": null,
       "layout": "IPY_MODEL_7c9e568ab603439c89670b88320a6b11",
       "placeholder": "​",
       "style": "IPY_MODEL_e1efc779b78a4249bdf4d3df3ccbd7f8",
       "value": "config.json: 100%"
      }
     },
     "692b213b85ba415383d740bc3399f546": {
      "model_module": "@jupyter-widgets/controls",
      "model_module_version": "1.5.0",
      "model_name": "HBoxModel",
      "state": {
       "_dom_classes": [],
       "_model_module": "@jupyter-widgets/controls",
       "_model_module_version": "1.5.0",
       "_model_name": "HBoxModel",
       "_view_count": null,
       "_view_module": "@jupyter-widgets/controls",
       "_view_module_version": "1.5.0",
       "_view_name": "HBoxView",
       "box_style": "",
       "children": [
        "IPY_MODEL_96f2367b66c64b86ac0661c18cd68a05",
        "IPY_MODEL_1d4f3eee65cc41149f4fe25f8806dddd",
        "IPY_MODEL_e7603dfff0de43fc8297a9cce3e603a4"
       ],
       "layout": "IPY_MODEL_990e4e8c51944cb9ab510769495f0c51"
      }
     },
     "6ebd744a92554f55832b4b1210b6b3cd": {
      "model_module": "@jupyter-widgets/base",
      "model_module_version": "1.2.0",
      "model_name": "LayoutModel",
      "state": {
       "_model_module": "@jupyter-widgets/base",
       "_model_module_version": "1.2.0",
       "_model_name": "LayoutModel",
       "_view_count": null,
       "_view_module": "@jupyter-widgets/base",
       "_view_module_version": "1.2.0",
       "_view_name": "LayoutView",
       "align_content": null,
       "align_items": null,
       "align_self": null,
       "border": null,
       "bottom": null,
       "display": null,
       "flex": null,
       "flex_flow": null,
       "grid_area": null,
       "grid_auto_columns": null,
       "grid_auto_flow": null,
       "grid_auto_rows": null,
       "grid_column": null,
       "grid_gap": null,
       "grid_row": null,
       "grid_template_areas": null,
       "grid_template_columns": null,
       "grid_template_rows": null,
       "height": null,
       "justify_content": null,
       "justify_items": null,
       "left": null,
       "margin": null,
       "max_height": null,
       "max_width": null,
       "min_height": null,
       "min_width": null,
       "object_fit": null,
       "object_position": null,
       "order": null,
       "overflow": null,
       "overflow_x": null,
       "overflow_y": null,
       "padding": null,
       "right": null,
       "top": null,
       "visibility": null,
       "width": null
      }
     },
     "6fdfd448fca04a8abdbd9babf5703d28": {
      "model_module": "@jupyter-widgets/base",
      "model_module_version": "1.2.0",
      "model_name": "LayoutModel",
      "state": {
       "_model_module": "@jupyter-widgets/base",
       "_model_module_version": "1.2.0",
       "_model_name": "LayoutModel",
       "_view_count": null,
       "_view_module": "@jupyter-widgets/base",
       "_view_module_version": "1.2.0",
       "_view_name": "LayoutView",
       "align_content": null,
       "align_items": null,
       "align_self": null,
       "border": null,
       "bottom": null,
       "display": null,
       "flex": null,
       "flex_flow": null,
       "grid_area": null,
       "grid_auto_columns": null,
       "grid_auto_flow": null,
       "grid_auto_rows": null,
       "grid_column": null,
       "grid_gap": null,
       "grid_row": null,
       "grid_template_areas": null,
       "grid_template_columns": null,
       "grid_template_rows": null,
       "height": null,
       "justify_content": null,
       "justify_items": null,
       "left": null,
       "margin": null,
       "max_height": null,
       "max_width": null,
       "min_height": null,
       "min_width": null,
       "object_fit": null,
       "object_position": null,
       "order": null,
       "overflow": null,
       "overflow_x": null,
       "overflow_y": null,
       "padding": null,
       "right": null,
       "top": null,
       "visibility": null,
       "width": null
      }
     },
     "7257bc339194492495abf1c1fc3d046c": {
      "model_module": "@jupyter-widgets/base",
      "model_module_version": "1.2.0",
      "model_name": "LayoutModel",
      "state": {
       "_model_module": "@jupyter-widgets/base",
       "_model_module_version": "1.2.0",
       "_model_name": "LayoutModel",
       "_view_count": null,
       "_view_module": "@jupyter-widgets/base",
       "_view_module_version": "1.2.0",
       "_view_name": "LayoutView",
       "align_content": null,
       "align_items": null,
       "align_self": null,
       "border": null,
       "bottom": null,
       "display": null,
       "flex": null,
       "flex_flow": null,
       "grid_area": null,
       "grid_auto_columns": null,
       "grid_auto_flow": null,
       "grid_auto_rows": null,
       "grid_column": null,
       "grid_gap": null,
       "grid_row": null,
       "grid_template_areas": null,
       "grid_template_columns": null,
       "grid_template_rows": null,
       "height": null,
       "justify_content": null,
       "justify_items": null,
       "left": null,
       "margin": null,
       "max_height": null,
       "max_width": null,
       "min_height": null,
       "min_width": null,
       "object_fit": null,
       "object_position": null,
       "order": null,
       "overflow": null,
       "overflow_x": null,
       "overflow_y": null,
       "padding": null,
       "right": null,
       "top": null,
       "visibility": null,
       "width": null
      }
     },
     "7b14f991d28c48c398cd5933d7453cc7": {
      "model_module": "@jupyter-widgets/controls",
      "model_module_version": "1.5.0",
      "model_name": "DescriptionStyleModel",
      "state": {
       "_model_module": "@jupyter-widgets/controls",
       "_model_module_version": "1.5.0",
       "_model_name": "DescriptionStyleModel",
       "_view_count": null,
       "_view_module": "@jupyter-widgets/base",
       "_view_module_version": "1.2.0",
       "_view_name": "StyleView",
       "description_width": ""
      }
     },
     "7c9e568ab603439c89670b88320a6b11": {
      "model_module": "@jupyter-widgets/base",
      "model_module_version": "1.2.0",
      "model_name": "LayoutModel",
      "state": {
       "_model_module": "@jupyter-widgets/base",
       "_model_module_version": "1.2.0",
       "_model_name": "LayoutModel",
       "_view_count": null,
       "_view_module": "@jupyter-widgets/base",
       "_view_module_version": "1.2.0",
       "_view_name": "LayoutView",
       "align_content": null,
       "align_items": null,
       "align_self": null,
       "border": null,
       "bottom": null,
       "display": null,
       "flex": null,
       "flex_flow": null,
       "grid_area": null,
       "grid_auto_columns": null,
       "grid_auto_flow": null,
       "grid_auto_rows": null,
       "grid_column": null,
       "grid_gap": null,
       "grid_row": null,
       "grid_template_areas": null,
       "grid_template_columns": null,
       "grid_template_rows": null,
       "height": null,
       "justify_content": null,
       "justify_items": null,
       "left": null,
       "margin": null,
       "max_height": null,
       "max_width": null,
       "min_height": null,
       "min_width": null,
       "object_fit": null,
       "object_position": null,
       "order": null,
       "overflow": null,
       "overflow_x": null,
       "overflow_y": null,
       "padding": null,
       "right": null,
       "top": null,
       "visibility": null,
       "width": null
      }
     },
     "80f0bd7972714b37ba9cef55f52540fa": {
      "model_module": "@jupyter-widgets/controls",
      "model_module_version": "1.5.0",
      "model_name": "HTMLModel",
      "state": {
       "_dom_classes": [],
       "_model_module": "@jupyter-widgets/controls",
       "_model_module_version": "1.5.0",
       "_model_name": "HTMLModel",
       "_view_count": null,
       "_view_module": "@jupyter-widgets/controls",
       "_view_module_version": "1.5.0",
       "_view_name": "HTMLView",
       "description": "",
       "description_tooltip": null,
       "layout": "IPY_MODEL_7257bc339194492495abf1c1fc3d046c",
       "placeholder": "​",
       "style": "IPY_MODEL_e574065b39524fff8e05307712d5ca06",
       "value": "pytorch_model.bin: 100%"
      }
     },
     "895f1eab3315485798346ef31c3618b7": {
      "model_module": "@jupyter-widgets/controls",
      "model_module_version": "1.5.0",
      "model_name": "HTMLModel",
      "state": {
       "_dom_classes": [],
       "_model_module": "@jupyter-widgets/controls",
       "_model_module_version": "1.5.0",
       "_model_name": "HTMLModel",
       "_view_count": null,
       "_view_module": "@jupyter-widgets/controls",
       "_view_module_version": "1.5.0",
       "_view_name": "HTMLView",
       "description": "",
       "description_tooltip": null,
       "layout": "IPY_MODEL_ada638bbac6d4620bd0f1d40ac7e334d",
       "placeholder": "​",
       "style": "IPY_MODEL_a681f92e68124d32a667a4c598a765a0",
       "value": " 579/579 [00:00&lt;00:00, 46.2kB/s]"
      }
     },
     "8aa03de872934ffcaa26e7add1cdfe77": {
      "model_module": "@jupyter-widgets/controls",
      "model_module_version": "1.5.0",
      "model_name": "FloatProgressModel",
      "state": {
       "_dom_classes": [],
       "_model_module": "@jupyter-widgets/controls",
       "_model_module_version": "1.5.0",
       "_model_name": "FloatProgressModel",
       "_view_count": null,
       "_view_module": "@jupyter-widgets/controls",
       "_view_module_version": "1.5.0",
       "_view_name": "ProgressView",
       "bar_style": "success",
       "description": "",
       "description_tooltip": null,
       "layout": "IPY_MODEL_8d03c32161dd43239445342499586f02",
       "max": 579.0,
       "min": 0.0,
       "orientation": "horizontal",
       "style": "IPY_MODEL_39e84e54505146e8a318547c644662af",
       "value": 579.0
      }
     },
     "8d03c32161dd43239445342499586f02": {
      "model_module": "@jupyter-widgets/base",
      "model_module_version": "1.2.0",
      "model_name": "LayoutModel",
      "state": {
       "_model_module": "@jupyter-widgets/base",
       "_model_module_version": "1.2.0",
       "_model_name": "LayoutModel",
       "_view_count": null,
       "_view_module": "@jupyter-widgets/base",
       "_view_module_version": "1.2.0",
       "_view_name": "LayoutView",
       "align_content": null,
       "align_items": null,
       "align_self": null,
       "border": null,
       "bottom": null,
       "display": null,
       "flex": null,
       "flex_flow": null,
       "grid_area": null,
       "grid_auto_columns": null,
       "grid_auto_flow": null,
       "grid_auto_rows": null,
       "grid_column": null,
       "grid_gap": null,
       "grid_row": null,
       "grid_template_areas": null,
       "grid_template_columns": null,
       "grid_template_rows": null,
       "height": null,
       "justify_content": null,
       "justify_items": null,
       "left": null,
       "margin": null,
       "max_height": null,
       "max_width": null,
       "min_height": null,
       "min_width": null,
       "object_fit": null,
       "object_position": null,
       "order": null,
       "overflow": null,
       "overflow_x": null,
       "overflow_y": null,
       "padding": null,
       "right": null,
       "top": null,
       "visibility": null,
       "width": null
      }
     },
     "8e7e7497a1cf404095f1256caf029133": {
      "model_module": "@jupyter-widgets/base",
      "model_module_version": "1.2.0",
      "model_name": "LayoutModel",
      "state": {
       "_model_module": "@jupyter-widgets/base",
       "_model_module_version": "1.2.0",
       "_model_name": "LayoutModel",
       "_view_count": null,
       "_view_module": "@jupyter-widgets/base",
       "_view_module_version": "1.2.0",
       "_view_name": "LayoutView",
       "align_content": null,
       "align_items": null,
       "align_self": null,
       "border": null,
       "bottom": null,
       "display": null,
       "flex": null,
       "flex_flow": null,
       "grid_area": null,
       "grid_auto_columns": null,
       "grid_auto_flow": null,
       "grid_auto_rows": null,
       "grid_column": null,
       "grid_gap": null,
       "grid_row": null,
       "grid_template_areas": null,
       "grid_template_columns": null,
       "grid_template_rows": null,
       "height": null,
       "justify_content": null,
       "justify_items": null,
       "left": null,
       "margin": null,
       "max_height": null,
       "max_width": null,
       "min_height": null,
       "min_width": null,
       "object_fit": null,
       "object_position": null,
       "order": null,
       "overflow": null,
       "overflow_x": null,
       "overflow_y": null,
       "padding": null,
       "right": null,
       "top": null,
       "visibility": null,
       "width": null
      }
     },
     "96f2367b66c64b86ac0661c18cd68a05": {
      "model_module": "@jupyter-widgets/controls",
      "model_module_version": "1.5.0",
      "model_name": "HTMLModel",
      "state": {
       "_dom_classes": [],
       "_model_module": "@jupyter-widgets/controls",
       "_model_module_version": "1.5.0",
       "_model_name": "HTMLModel",
       "_view_count": null,
       "_view_module": "@jupyter-widgets/controls",
       "_view_module_version": "1.5.0",
       "_view_name": "HTMLView",
       "description": "",
       "description_tooltip": null,
       "layout": "IPY_MODEL_a94cb4bb4dc049f4ac30d00976dfe4af",
       "placeholder": "​",
       "style": "IPY_MODEL_3453e0e304394af9bb636db32508457c",
       "value": "tokenizer_config.json: 100%"
      }
     },
     "98c2d6339c5f4e5f8499448ab8175f57": {
      "model_module": "@jupyter-widgets/controls",
      "model_module_version": "1.5.0",
      "model_name": "HTMLModel",
      "state": {
       "_dom_classes": [],
       "_model_module": "@jupyter-widgets/controls",
       "_model_module_version": "1.5.0",
       "_model_name": "HTMLModel",
       "_view_count": null,
       "_view_module": "@jupyter-widgets/controls",
       "_view_module_version": "1.5.0",
       "_view_name": "HTMLView",
       "description": "",
       "description_tooltip": null,
       "layout": "IPY_MODEL_6ebd744a92554f55832b4b1210b6b3cd",
       "placeholder": "​",
       "style": "IPY_MODEL_fe338da2f0924446a9c475fca7d0cb7b",
       "value": " 2.46M/2.46M [00:00&lt;00:00, 20.0MB/s]"
      }
     },
     "990e4e8c51944cb9ab510769495f0c51": {
      "model_module": "@jupyter-widgets/base",
      "model_module_version": "1.2.0",
      "model_name": "LayoutModel",
      "state": {
       "_model_module": "@jupyter-widgets/base",
       "_model_module_version": "1.2.0",
       "_model_name": "LayoutModel",
       "_view_count": null,
       "_view_module": "@jupyter-widgets/base",
       "_view_module_version": "1.2.0",
       "_view_name": "LayoutView",
       "align_content": null,
       "align_items": null,
       "align_self": null,
       "border": null,
       "bottom": null,
       "display": null,
       "flex": null,
       "flex_flow": null,
       "grid_area": null,
       "grid_auto_columns": null,
       "grid_auto_flow": null,
       "grid_auto_rows": null,
       "grid_column": null,
       "grid_gap": null,
       "grid_row": null,
       "grid_template_areas": null,
       "grid_template_columns": null,
       "grid_template_rows": null,
       "height": null,
       "justify_content": null,
       "justify_items": null,
       "left": null,
       "margin": null,
       "max_height": null,
       "max_width": null,
       "min_height": null,
       "min_width": null,
       "object_fit": null,
       "object_position": null,
       "order": null,
       "overflow": null,
       "overflow_x": null,
       "overflow_y": null,
       "padding": null,
       "right": null,
       "top": null,
       "visibility": null,
       "width": null
      }
     },
     "a681f92e68124d32a667a4c598a765a0": {
      "model_module": "@jupyter-widgets/controls",
      "model_module_version": "1.5.0",
      "model_name": "DescriptionStyleModel",
      "state": {
       "_model_module": "@jupyter-widgets/controls",
       "_model_module_version": "1.5.0",
       "_model_name": "DescriptionStyleModel",
       "_view_count": null,
       "_view_module": "@jupyter-widgets/base",
       "_view_module_version": "1.2.0",
       "_view_name": "StyleView",
       "description_width": ""
      }
     },
     "a94cb4bb4dc049f4ac30d00976dfe4af": {
      "model_module": "@jupyter-widgets/base",
      "model_module_version": "1.2.0",
      "model_name": "LayoutModel",
      "state": {
       "_model_module": "@jupyter-widgets/base",
       "_model_module_version": "1.2.0",
       "_model_name": "LayoutModel",
       "_view_count": null,
       "_view_module": "@jupyter-widgets/base",
       "_view_module_version": "1.2.0",
       "_view_name": "LayoutView",
       "align_content": null,
       "align_items": null,
       "align_self": null,
       "border": null,
       "bottom": null,
       "display": null,
       "flex": null,
       "flex_flow": null,
       "grid_area": null,
       "grid_auto_columns": null,
       "grid_auto_flow": null,
       "grid_auto_rows": null,
       "grid_column": null,
       "grid_gap": null,
       "grid_row": null,
       "grid_template_areas": null,
       "grid_template_columns": null,
       "grid_template_rows": null,
       "height": null,
       "justify_content": null,
       "justify_items": null,
       "left": null,
       "margin": null,
       "max_height": null,
       "max_width": null,
       "min_height": null,
       "min_width": null,
       "object_fit": null,
       "object_position": null,
       "order": null,
       "overflow": null,
       "overflow_x": null,
       "overflow_y": null,
       "padding": null,
       "right": null,
       "top": null,
       "visibility": null,
       "width": null
      }
     },
     "ada638bbac6d4620bd0f1d40ac7e334d": {
      "model_module": "@jupyter-widgets/base",
      "model_module_version": "1.2.0",
      "model_name": "LayoutModel",
      "state": {
       "_model_module": "@jupyter-widgets/base",
       "_model_module_version": "1.2.0",
       "_model_name": "LayoutModel",
       "_view_count": null,
       "_view_module": "@jupyter-widgets/base",
       "_view_module_version": "1.2.0",
       "_view_name": "LayoutView",
       "align_content": null,
       "align_items": null,
       "align_self": null,
       "border": null,
       "bottom": null,
       "display": null,
       "flex": null,
       "flex_flow": null,
       "grid_area": null,
       "grid_auto_columns": null,
       "grid_auto_flow": null,
       "grid_auto_rows": null,
       "grid_column": null,
       "grid_gap": null,
       "grid_row": null,
       "grid_template_areas": null,
       "grid_template_columns": null,
       "grid_template_rows": null,
       "height": null,
       "justify_content": null,
       "justify_items": null,
       "left": null,
       "margin": null,
       "max_height": null,
       "max_width": null,
       "min_height": null,
       "min_width": null,
       "object_fit": null,
       "object_position": null,
       "order": null,
       "overflow": null,
       "overflow_x": null,
       "overflow_y": null,
       "padding": null,
       "right": null,
       "top": null,
       "visibility": null,
       "width": null
      }
     },
     "c305ae197dfa4710b1bcf9f92174b9dd": {
      "model_module": "@jupyter-widgets/base",
      "model_module_version": "1.2.0",
      "model_name": "LayoutModel",
      "state": {
       "_model_module": "@jupyter-widgets/base",
       "_model_module_version": "1.2.0",
       "_model_name": "LayoutModel",
       "_view_count": null,
       "_view_module": "@jupyter-widgets/base",
       "_view_module_version": "1.2.0",
       "_view_name": "LayoutView",
       "align_content": null,
       "align_items": null,
       "align_self": null,
       "border": null,
       "bottom": null,
       "display": null,
       "flex": null,
       "flex_flow": null,
       "grid_area": null,
       "grid_auto_columns": null,
       "grid_auto_flow": null,
       "grid_auto_rows": null,
       "grid_column": null,
       "grid_gap": null,
       "grid_row": null,
       "grid_template_areas": null,
       "grid_template_columns": null,
       "grid_template_rows": null,
       "height": null,
       "justify_content": null,
       "justify_items": null,
       "left": null,
       "margin": null,
       "max_height": null,
       "max_width": null,
       "min_height": null,
       "min_width": null,
       "object_fit": null,
       "object_position": null,
       "order": null,
       "overflow": null,
       "overflow_x": null,
       "overflow_y": null,
       "padding": null,
       "right": null,
       "top": null,
       "visibility": null,
       "width": null
      }
     },
     "c8d4ca4bb697400eb31b311271b85abb": {
      "model_module": "@jupyter-widgets/base",
      "model_module_version": "1.2.0",
      "model_name": "LayoutModel",
      "state": {
       "_model_module": "@jupyter-widgets/base",
       "_model_module_version": "1.2.0",
       "_model_name": "LayoutModel",
       "_view_count": null,
       "_view_module": "@jupyter-widgets/base",
       "_view_module_version": "1.2.0",
       "_view_name": "LayoutView",
       "align_content": null,
       "align_items": null,
       "align_self": null,
       "border": null,
       "bottom": null,
       "display": null,
       "flex": null,
       "flex_flow": null,
       "grid_area": null,
       "grid_auto_columns": null,
       "grid_auto_flow": null,
       "grid_auto_rows": null,
       "grid_column": null,
       "grid_gap": null,
       "grid_row": null,
       "grid_template_areas": null,
       "grid_template_columns": null,
       "grid_template_rows": null,
       "height": null,
       "justify_content": null,
       "justify_items": null,
       "left": null,
       "margin": null,
       "max_height": null,
       "max_width": null,
       "min_height": null,
       "min_width": null,
       "object_fit": null,
       "object_position": null,
       "order": null,
       "overflow": null,
       "overflow_x": null,
       "overflow_y": null,
       "padding": null,
       "right": null,
       "top": null,
       "visibility": null,
       "width": null
      }
     },
     "ce285e72310f4840ae0ea0f9f32ea310": {
      "model_module": "@jupyter-widgets/base",
      "model_module_version": "1.2.0",
      "model_name": "LayoutModel",
      "state": {
       "_model_module": "@jupyter-widgets/base",
       "_model_module_version": "1.2.0",
       "_model_name": "LayoutModel",
       "_view_count": null,
       "_view_module": "@jupyter-widgets/base",
       "_view_module_version": "1.2.0",
       "_view_name": "LayoutView",
       "align_content": null,
       "align_items": null,
       "align_self": null,
       "border": null,
       "bottom": null,
       "display": null,
       "flex": null,
       "flex_flow": null,
       "grid_area": null,
       "grid_auto_columns": null,
       "grid_auto_flow": null,
       "grid_auto_rows": null,
       "grid_column": null,
       "grid_gap": null,
       "grid_row": null,
       "grid_template_areas": null,
       "grid_template_columns": null,
       "grid_template_rows": null,
       "height": null,
       "justify_content": null,
       "justify_items": null,
       "left": null,
       "margin": null,
       "max_height": null,
       "max_width": null,
       "min_height": null,
       "min_width": null,
       "object_fit": null,
       "object_position": null,
       "order": null,
       "overflow": null,
       "overflow_x": null,
       "overflow_y": null,
       "padding": null,
       "right": null,
       "top": null,
       "visibility": null,
       "width": null
      }
     },
     "ce4deba81f164301997df404fa696065": {
      "model_module": "@jupyter-widgets/controls",
      "model_module_version": "1.5.0",
      "model_name": "HBoxModel",
      "state": {
       "_dom_classes": [],
       "_model_module": "@jupyter-widgets/controls",
       "_model_module_version": "1.5.0",
       "_model_name": "HBoxModel",
       "_view_count": null,
       "_view_module": "@jupyter-widgets/controls",
       "_view_module_version": "1.5.0",
       "_view_name": "HBoxView",
       "box_style": "",
       "children": [
        "IPY_MODEL_80f0bd7972714b37ba9cef55f52540fa",
        "IPY_MODEL_1f75b25052514773ae73d81ce1510247",
        "IPY_MODEL_f1dc3c040f9e4b8ba080858ec6d4eccd"
       ],
       "layout": "IPY_MODEL_c305ae197dfa4710b1bcf9f92174b9dd"
      }
     },
     "d1ca94e8f2644d6e861985bc3d516f9a": {
      "model_module": "@jupyter-widgets/controls",
      "model_module_version": "1.5.0",
      "model_name": "DescriptionStyleModel",
      "state": {
       "_model_module": "@jupyter-widgets/controls",
       "_model_module_version": "1.5.0",
       "_model_name": "DescriptionStyleModel",
       "_view_count": null,
       "_view_module": "@jupyter-widgets/base",
       "_view_module_version": "1.2.0",
       "_view_name": "StyleView",
       "description_width": ""
      }
     },
     "d301a91ec04f4c1a89c145cd6391e635": {
      "model_module": "@jupyter-widgets/controls",
      "model_module_version": "1.5.0",
      "model_name": "FloatProgressModel",
      "state": {
       "_dom_classes": [],
       "_model_module": "@jupyter-widgets/controls",
       "_model_module_version": "1.5.0",
       "_model_name": "FloatProgressModel",
       "_view_count": null,
       "_view_module": "@jupyter-widgets/controls",
       "_view_module_version": "1.5.0",
       "_view_name": "ProgressView",
       "bar_style": "success",
       "description": "",
       "description_tooltip": null,
       "layout": "IPY_MODEL_f618c557d88648b89aefc66ab23c4873",
       "max": 2464616.0,
       "min": 0.0,
       "orientation": "horizontal",
       "style": "IPY_MODEL_dac346627b8245c59e2820ae0bb6d74e",
       "value": 2464616.0
      }
     },
     "d52a34c8759b4cf1ae78c0fc98067aca": {
      "model_module": "@jupyter-widgets/controls",
      "model_module_version": "1.5.0",
      "model_name": "HBoxModel",
      "state": {
       "_dom_classes": [],
       "_model_module": "@jupyter-widgets/controls",
       "_model_module_version": "1.5.0",
       "_model_name": "HBoxModel",
       "_view_count": null,
       "_view_module": "@jupyter-widgets/controls",
       "_view_module_version": "1.5.0",
       "_view_name": "HBoxView",
       "box_style": "",
       "children": [
        "IPY_MODEL_5eb47a98f5954685ae19adeb5c09c1d3",
        "IPY_MODEL_8aa03de872934ffcaa26e7add1cdfe77",
        "IPY_MODEL_895f1eab3315485798346ef31c3618b7"
       ],
       "layout": "IPY_MODEL_ce285e72310f4840ae0ea0f9f32ea310"
      }
     },
     "dac346627b8245c59e2820ae0bb6d74e": {
      "model_module": "@jupyter-widgets/controls",
      "model_module_version": "1.5.0",
      "model_name": "ProgressStyleModel",
      "state": {
       "_model_module": "@jupyter-widgets/controls",
       "_model_module_version": "1.5.0",
       "_model_name": "ProgressStyleModel",
       "_view_count": null,
       "_view_module": "@jupyter-widgets/base",
       "_view_module_version": "1.2.0",
       "_view_name": "StyleView",
       "bar_color": null,
       "description_width": ""
      }
     },
     "e1efc779b78a4249bdf4d3df3ccbd7f8": {
      "model_module": "@jupyter-widgets/controls",
      "model_module_version": "1.5.0",
      "model_name": "DescriptionStyleModel",
      "state": {
       "_model_module": "@jupyter-widgets/controls",
       "_model_module_version": "1.5.0",
       "_model_name": "DescriptionStyleModel",
       "_view_count": null,
       "_view_module": "@jupyter-widgets/base",
       "_view_module_version": "1.2.0",
       "_view_name": "StyleView",
       "description_width": ""
      }
     },
     "e574065b39524fff8e05307712d5ca06": {
      "model_module": "@jupyter-widgets/controls",
      "model_module_version": "1.5.0",
      "model_name": "DescriptionStyleModel",
      "state": {
       "_model_module": "@jupyter-widgets/controls",
       "_model_module_version": "1.5.0",
       "_model_name": "DescriptionStyleModel",
       "_view_count": null,
       "_view_module": "@jupyter-widgets/base",
       "_view_module_version": "1.2.0",
       "_view_name": "StyleView",
       "description_width": ""
      }
     },
     "e7603dfff0de43fc8297a9cce3e603a4": {
      "model_module": "@jupyter-widgets/controls",
      "model_module_version": "1.5.0",
      "model_name": "HTMLModel",
      "state": {
       "_dom_classes": [],
       "_model_module": "@jupyter-widgets/controls",
       "_model_module_version": "1.5.0",
       "_model_name": "HTMLModel",
       "_view_count": null,
       "_view_module": "@jupyter-widgets/controls",
       "_view_module_version": "1.5.0",
       "_view_name": "HTMLView",
       "description": "",
       "description_tooltip": null,
       "layout": "IPY_MODEL_6fdfd448fca04a8abdbd9babf5703d28",
       "placeholder": "​",
       "style": "IPY_MODEL_7b14f991d28c48c398cd5933d7453cc7",
       "value": " 52.0/52.0 [00:00&lt;00:00, 4.97kB/s]"
      }
     },
     "e88aca459a884b4e80e096c3306d534b": {
      "model_module": "@jupyter-widgets/controls",
      "model_module_version": "1.5.0",
      "model_name": "ProgressStyleModel",
      "state": {
       "_model_module": "@jupyter-widgets/controls",
       "_model_module_version": "1.5.0",
       "_model_name": "ProgressStyleModel",
       "_view_count": null,
       "_view_module": "@jupyter-widgets/base",
       "_view_module_version": "1.2.0",
       "_view_name": "StyleView",
       "bar_color": null,
       "description_width": ""
      }
     },
     "f1dc3c040f9e4b8ba080858ec6d4eccd": {
      "model_module": "@jupyter-widgets/controls",
      "model_module_version": "1.5.0",
      "model_name": "HTMLModel",
      "state": {
       "_dom_classes": [],
       "_model_module": "@jupyter-widgets/controls",
       "_model_module_version": "1.5.0",
       "_model_name": "HTMLModel",
       "_view_count": null,
       "_view_module": "@jupyter-widgets/controls",
       "_view_module_version": "1.5.0",
       "_view_name": "HTMLView",
       "description": "",
       "description_tooltip": null,
       "layout": "IPY_MODEL_5411872da9ba4282bd86da898f4a2d79",
       "placeholder": "​",
       "style": "IPY_MODEL_d1ca94e8f2644d6e861985bc3d516f9a",
       "value": " 371M/371M [00:01&lt;00:00, 332MB/s]"
      }
     },
     "f618c557d88648b89aefc66ab23c4873": {
      "model_module": "@jupyter-widgets/base",
      "model_module_version": "1.2.0",
      "model_name": "LayoutModel",
      "state": {
       "_model_module": "@jupyter-widgets/base",
       "_model_module_version": "1.2.0",
       "_model_name": "LayoutModel",
       "_view_count": null,
       "_view_module": "@jupyter-widgets/base",
       "_view_module_version": "1.2.0",
       "_view_name": "LayoutView",
       "align_content": null,
       "align_items": null,
       "align_self": null,
       "border": null,
       "bottom": null,
       "display": null,
       "flex": null,
       "flex_flow": null,
       "grid_area": null,
       "grid_auto_columns": null,
       "grid_auto_flow": null,
       "grid_auto_rows": null,
       "grid_column": null,
       "grid_gap": null,
       "grid_row": null,
       "grid_template_areas": null,
       "grid_template_columns": null,
       "grid_template_rows": null,
       "height": null,
       "justify_content": null,
       "justify_items": null,
       "left": null,
       "margin": null,
       "max_height": null,
       "max_width": null,
       "min_height": null,
       "min_width": null,
       "object_fit": null,
       "object_position": null,
       "order": null,
       "overflow": null,
       "overflow_x": null,
       "overflow_y": null,
       "padding": null,
       "right": null,
       "top": null,
       "visibility": null,
       "width": null
      }
     },
     "fe338da2f0924446a9c475fca7d0cb7b": {
      "model_module": "@jupyter-widgets/controls",
      "model_module_version": "1.5.0",
      "model_name": "DescriptionStyleModel",
      "state": {
       "_model_module": "@jupyter-widgets/controls",
       "_model_module_version": "1.5.0",
       "_model_name": "DescriptionStyleModel",
       "_view_count": null,
       "_view_module": "@jupyter-widgets/base",
       "_view_module_version": "1.2.0",
       "_view_name": "StyleView",
       "description_width": ""
      }
     }
    },
    "version_major": 2,
    "version_minor": 0
   }
  }
 },
 "nbformat": 4,
 "nbformat_minor": 5
}
